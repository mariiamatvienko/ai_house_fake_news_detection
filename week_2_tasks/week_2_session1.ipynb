{
  "nbformat": 4,
  "nbformat_minor": 0,
  "metadata": {
    "colab": {
      "provenance": []
    },
    "kernelspec": {
      "name": "python3",
      "display_name": "Python 3"
    },
    "language_info": {
      "name": "python"
    },
    "accelerator": "GPU",
    "gpuClass": "standard"
  },
  "cells": [
    {
      "cell_type": "code",
      "execution_count": 5,
      "metadata": {
        "id": "br0LygOcbd6q"
      },
      "outputs": [],
      "source": [
        "import os\n",
        "import calendar\n",
        "\n",
        "import pandas as pd\n",
        "import numpy as np \n",
        "import gensim\n",
        "import nltk\n",
        "import spacy\n",
        "\n",
        "from matplotlib import pyplot as plt\n",
        "from nltk.corpus import stopwords\n",
        "from wordcloud import WordCloud, STOPWORDS\n",
        "from sklearn.feature_extraction.text import CountVectorizer, TfidfVectorizer\n",
        "from sentence_transformers import SentenceTransformer, util\n",
        "from sklearn.model_selection import train_test_split, StratifiedKFold, TimeSeriesSplit\n",
        "from sklearn.pipeline import Pipeline\n",
        "from sklearn.linear_model import LogisticRegression\n",
        "from sklearn.metrics import roc_auc_score\n",
        "from sklearn.preprocessing import StandardScaler\n",
        "\n",
        "%matplotlib inline"
      ]
    },
    {
      "cell_type": "code",
      "source": [
        "df = pd.read_csv(\"/content/train.csv\")"
      ],
      "metadata": {
        "id": "0St6_VswcdDl"
      },
      "execution_count": 7,
      "outputs": []
    },
    {
      "cell_type": "code",
      "source": [
        "df.head()"
      ],
      "metadata": {
        "colab": {
          "base_uri": "https://localhost:8080/",
          "height": 206
        },
        "id": "W83aOEcvhEut",
        "outputId": "272eef5f-764b-4e7d-baa9-26feceddb09f"
      },
      "execution_count": 8,
      "outputs": [
        {
          "output_type": "execute_result",
          "data": {
            "text/plain": [
              "                 id                                       comment_text  toxic  \\\n",
              "0  0000997932d777bf  Explanation\\nWhy the edits made under my usern...      0   \n",
              "1  000103f0d9cfb60f  D'aww! He matches this background colour I'm s...      0   \n",
              "2  000113f07ec002fd  Hey man, I'm really not trying to edit war. It...      0   \n",
              "3  0001b41b1c6bb37e  \"\\nMore\\nI can't make any real suggestions on ...      0   \n",
              "4  0001d958c54c6e35  You, sir, are my hero. Any chance you remember...      0   \n",
              "\n",
              "   severe_toxic  obscene  threat  insult  identity_hate  \n",
              "0             0        0       0       0              0  \n",
              "1             0        0       0       0              0  \n",
              "2             0        0       0       0              0  \n",
              "3             0        0       0       0              0  \n",
              "4             0        0       0       0              0  "
            ],
            "text/html": [
              "\n",
              "  <div id=\"df-08c24b30-1a01-414a-abd7-c8791fd4fdaa\">\n",
              "    <div class=\"colab-df-container\">\n",
              "      <div>\n",
              "<style scoped>\n",
              "    .dataframe tbody tr th:only-of-type {\n",
              "        vertical-align: middle;\n",
              "    }\n",
              "\n",
              "    .dataframe tbody tr th {\n",
              "        vertical-align: top;\n",
              "    }\n",
              "\n",
              "    .dataframe thead th {\n",
              "        text-align: right;\n",
              "    }\n",
              "</style>\n",
              "<table border=\"1\" class=\"dataframe\">\n",
              "  <thead>\n",
              "    <tr style=\"text-align: right;\">\n",
              "      <th></th>\n",
              "      <th>id</th>\n",
              "      <th>comment_text</th>\n",
              "      <th>toxic</th>\n",
              "      <th>severe_toxic</th>\n",
              "      <th>obscene</th>\n",
              "      <th>threat</th>\n",
              "      <th>insult</th>\n",
              "      <th>identity_hate</th>\n",
              "    </tr>\n",
              "  </thead>\n",
              "  <tbody>\n",
              "    <tr>\n",
              "      <th>0</th>\n",
              "      <td>0000997932d777bf</td>\n",
              "      <td>Explanation\\nWhy the edits made under my usern...</td>\n",
              "      <td>0</td>\n",
              "      <td>0</td>\n",
              "      <td>0</td>\n",
              "      <td>0</td>\n",
              "      <td>0</td>\n",
              "      <td>0</td>\n",
              "    </tr>\n",
              "    <tr>\n",
              "      <th>1</th>\n",
              "      <td>000103f0d9cfb60f</td>\n",
              "      <td>D'aww! He matches this background colour I'm s...</td>\n",
              "      <td>0</td>\n",
              "      <td>0</td>\n",
              "      <td>0</td>\n",
              "      <td>0</td>\n",
              "      <td>0</td>\n",
              "      <td>0</td>\n",
              "    </tr>\n",
              "    <tr>\n",
              "      <th>2</th>\n",
              "      <td>000113f07ec002fd</td>\n",
              "      <td>Hey man, I'm really not trying to edit war. It...</td>\n",
              "      <td>0</td>\n",
              "      <td>0</td>\n",
              "      <td>0</td>\n",
              "      <td>0</td>\n",
              "      <td>0</td>\n",
              "      <td>0</td>\n",
              "    </tr>\n",
              "    <tr>\n",
              "      <th>3</th>\n",
              "      <td>0001b41b1c6bb37e</td>\n",
              "      <td>\"\\nMore\\nI can't make any real suggestions on ...</td>\n",
              "      <td>0</td>\n",
              "      <td>0</td>\n",
              "      <td>0</td>\n",
              "      <td>0</td>\n",
              "      <td>0</td>\n",
              "      <td>0</td>\n",
              "    </tr>\n",
              "    <tr>\n",
              "      <th>4</th>\n",
              "      <td>0001d958c54c6e35</td>\n",
              "      <td>You, sir, are my hero. Any chance you remember...</td>\n",
              "      <td>0</td>\n",
              "      <td>0</td>\n",
              "      <td>0</td>\n",
              "      <td>0</td>\n",
              "      <td>0</td>\n",
              "      <td>0</td>\n",
              "    </tr>\n",
              "  </tbody>\n",
              "</table>\n",
              "</div>\n",
              "      <button class=\"colab-df-convert\" onclick=\"convertToInteractive('df-08c24b30-1a01-414a-abd7-c8791fd4fdaa')\"\n",
              "              title=\"Convert this dataframe to an interactive table.\"\n",
              "              style=\"display:none;\">\n",
              "        \n",
              "  <svg xmlns=\"http://www.w3.org/2000/svg\" height=\"24px\"viewBox=\"0 0 24 24\"\n",
              "       width=\"24px\">\n",
              "    <path d=\"M0 0h24v24H0V0z\" fill=\"none\"/>\n",
              "    <path d=\"M18.56 5.44l.94 2.06.94-2.06 2.06-.94-2.06-.94-.94-2.06-.94 2.06-2.06.94zm-11 1L8.5 8.5l.94-2.06 2.06-.94-2.06-.94L8.5 2.5l-.94 2.06-2.06.94zm10 10l.94 2.06.94-2.06 2.06-.94-2.06-.94-.94-2.06-.94 2.06-2.06.94z\"/><path d=\"M17.41 7.96l-1.37-1.37c-.4-.4-.92-.59-1.43-.59-.52 0-1.04.2-1.43.59L10.3 9.45l-7.72 7.72c-.78.78-.78 2.05 0 2.83L4 21.41c.39.39.9.59 1.41.59.51 0 1.02-.2 1.41-.59l7.78-7.78 2.81-2.81c.8-.78.8-2.07 0-2.86zM5.41 20L4 18.59l7.72-7.72 1.47 1.35L5.41 20z\"/>\n",
              "  </svg>\n",
              "      </button>\n",
              "      \n",
              "  <style>\n",
              "    .colab-df-container {\n",
              "      display:flex;\n",
              "      flex-wrap:wrap;\n",
              "      gap: 12px;\n",
              "    }\n",
              "\n",
              "    .colab-df-convert {\n",
              "      background-color: #E8F0FE;\n",
              "      border: none;\n",
              "      border-radius: 50%;\n",
              "      cursor: pointer;\n",
              "      display: none;\n",
              "      fill: #1967D2;\n",
              "      height: 32px;\n",
              "      padding: 0 0 0 0;\n",
              "      width: 32px;\n",
              "    }\n",
              "\n",
              "    .colab-df-convert:hover {\n",
              "      background-color: #E2EBFA;\n",
              "      box-shadow: 0px 1px 2px rgba(60, 64, 67, 0.3), 0px 1px 3px 1px rgba(60, 64, 67, 0.15);\n",
              "      fill: #174EA6;\n",
              "    }\n",
              "\n",
              "    [theme=dark] .colab-df-convert {\n",
              "      background-color: #3B4455;\n",
              "      fill: #D2E3FC;\n",
              "    }\n",
              "\n",
              "    [theme=dark] .colab-df-convert:hover {\n",
              "      background-color: #434B5C;\n",
              "      box-shadow: 0px 1px 3px 1px rgba(0, 0, 0, 0.15);\n",
              "      filter: drop-shadow(0px 1px 2px rgba(0, 0, 0, 0.3));\n",
              "      fill: #FFFFFF;\n",
              "    }\n",
              "  </style>\n",
              "\n",
              "      <script>\n",
              "        const buttonEl =\n",
              "          document.querySelector('#df-08c24b30-1a01-414a-abd7-c8791fd4fdaa button.colab-df-convert');\n",
              "        buttonEl.style.display =\n",
              "          google.colab.kernel.accessAllowed ? 'block' : 'none';\n",
              "\n",
              "        async function convertToInteractive(key) {\n",
              "          const element = document.querySelector('#df-08c24b30-1a01-414a-abd7-c8791fd4fdaa');\n",
              "          const dataTable =\n",
              "            await google.colab.kernel.invokeFunction('convertToInteractive',\n",
              "                                                     [key], {});\n",
              "          if (!dataTable) return;\n",
              "\n",
              "          const docLinkHtml = 'Like what you see? Visit the ' +\n",
              "            '<a target=\"_blank\" href=https://colab.research.google.com/notebooks/data_table.ipynb>data table notebook</a>'\n",
              "            + ' to learn more about interactive tables.';\n",
              "          element.innerHTML = '';\n",
              "          dataTable['output_type'] = 'display_data';\n",
              "          await google.colab.output.renderOutput(dataTable, element);\n",
              "          const docLink = document.createElement('div');\n",
              "          docLink.innerHTML = docLinkHtml;\n",
              "          element.appendChild(docLink);\n",
              "        }\n",
              "      </script>\n",
              "    </div>\n",
              "  </div>\n",
              "  "
            ]
          },
          "metadata": {},
          "execution_count": 8
        }
      ]
    },
    {
      "cell_type": "code",
      "source": [
        "df.isnull().sum()"
      ],
      "metadata": {
        "id": "ri03e6NchIMF"
      },
      "execution_count": null,
      "outputs": []
    },
    {
      "cell_type": "code",
      "source": [
        "df.isna().sum()"
      ],
      "metadata": {
        "id": "JunzQ5RdhMS9"
      },
      "execution_count": null,
      "outputs": []
    },
    {
      "cell_type": "code",
      "source": [
        "criteria = [col for col in df.columns[2:]]\n",
        "print(criteria)"
      ],
      "metadata": {
        "colab": {
          "base_uri": "https://localhost:8080/"
        },
        "id": "7TklfmPLhQXt",
        "outputId": "6294e795-6719-48ef-fa98-c752a7301604"
      },
      "execution_count": 16,
      "outputs": [
        {
          "output_type": "stream",
          "name": "stdout",
          "text": [
            "['toxic', 'severe_toxic', 'obscene', 'threat', 'insult', 'identity_hate']\n"
          ]
        }
      ]
    },
    {
      "cell_type": "code",
      "source": [
        " df[\"toxic\"].value_counts()"
      ],
      "metadata": {
        "colab": {
          "base_uri": "https://localhost:8080/"
        },
        "id": "3zYVZONlhWj4",
        "outputId": "3bddd64f-182c-4c89-d627-655caf004b41"
      },
      "execution_count": 59,
      "outputs": [
        {
          "output_type": "execute_result",
          "data": {
            "text/plain": [
              "0    144277\n",
              "1     15294\n",
              "Name: toxic, dtype: int64"
            ]
          },
          "metadata": {},
          "execution_count": 59
        }
      ]
    },
    {
      "cell_type": "code",
      "source": [
        "# df.iloc[:,2:].count()\n",
        "df.iloc[:,2:].sum().values"
      ],
      "metadata": {
        "colab": {
          "base_uri": "https://localhost:8080/"
        },
        "id": "OAcXXcePkl43",
        "outputId": "9f69c704-b01e-47b3-a538-aee0adeb8220"
      },
      "execution_count": 87,
      "outputs": [
        {
          "output_type": "execute_result",
          "data": {
            "text/plain": [
              "array([15294,  1595,  8449,   478,  7877,  1405])"
            ]
          },
          "metadata": {},
          "execution_count": 87
        }
      ]
    },
    {
      "cell_type": "code",
      "source": [],
      "metadata": {
        "id": "0DBwmvZHARSB"
      },
      "execution_count": null,
      "outputs": []
    },
    {
      "cell_type": "code",
      "source": [
        "# fakes count\n",
        "lst_tox = []\n",
        "for i in range(len(criteria)):\n",
        "    lst_tox.append(df[df[criteria[i]]==1][criteria[i]].count())"
      ],
      "metadata": {
        "colab": {
          "base_uri": "https://localhost:8080/"
        },
        "id": "WyXzewtYiZ2w",
        "outputId": "b248e0dc-5bd2-475a-95fc-58dd9443f988"
      },
      "execution_count": 74,
      "outputs": [
        {
          "output_type": "stream",
          "name": "stdout",
          "text": [
            "15294\n",
            "1595\n",
            "8449\n",
            "478\n",
            "7877\n",
            "1405\n"
          ]
        }
      ]
    },
    {
      "cell_type": "code",
      "source": [
        "#non toxic\n",
        "lst_nontox =[]\n",
        "for i in range(len(criteria)):\n",
        "    lst_nontox.append(df[df[criteria[i]]==0][criteria[i]].count())"
      ],
      "metadata": {
        "colab": {
          "base_uri": "https://localhost:8080/"
        },
        "id": "s1uUv6cE4Kqu",
        "outputId": "79f8fcd7-1d8b-4553-c702-2070b9a27078"
      },
      "execution_count": 75,
      "outputs": [
        {
          "output_type": "stream",
          "name": "stdout",
          "text": [
            "144277\n",
            "157976\n",
            "151122\n",
            "159093\n",
            "151694\n",
            "158166\n"
          ]
        }
      ]
    },
    {
      "cell_type": "code",
      "source": [
        "df_counts = pd.DataFrame({'criteria': criteria, 'tox':lst_tox, 'non_tox':lst_nontox}, index=criteria)\n",
        "df_counts.plot(kind=\"bar\")"
      ],
      "metadata": {
        "colab": {
          "base_uri": "https://localhost:8080/",
          "height": 339
        },
        "id": "ltI9kOrB5HXv",
        "outputId": "85267f8e-ad37-4efc-db61-b31442b552bf"
      },
      "execution_count": 82,
      "outputs": [
        {
          "output_type": "execute_result",
          "data": {
            "text/plain": [
              "<matplotlib.axes._subplots.AxesSubplot at 0x7efcd4fc4c40>"
            ]
          },
          "metadata": {},
          "execution_count": 82
        },
        {
          "output_type": "display_data",
          "data": {
            "text/plain": [
              "<Figure size 432x288 with 1 Axes>"
            ],
            "image/png": "[encoded data removed]"
          },
          "metadata": {
            "needs_background": "light"
          }
        }
      ]
    },
    {
      "cell_type": "code",
      "source": [
        "df[criteria].corr()"
      ],
      "metadata": {
        "colab": {
          "base_uri": "https://localhost:8080/",
          "height": 237
        },
        "id": "s-US8nRL3WxM",
        "outputId": "f9255321-e5fa-481d-98a3-1b43b2a239df"
      },
      "execution_count": 72,
      "outputs": [
        {
          "output_type": "execute_result",
          "data": {
            "text/plain": [
              "                  toxic  severe_toxic   obscene    threat    insult  \\\n",
              "toxic          1.000000      0.308619  0.676515  0.157058  0.647518   \n",
              "severe_toxic   0.308619      1.000000  0.403014  0.123601  0.375807   \n",
              "obscene        0.676515      0.403014  1.000000  0.141179  0.741272   \n",
              "threat         0.157058      0.123601  0.141179  1.000000  0.150022   \n",
              "insult         0.647518      0.375807  0.741272  0.150022  1.000000   \n",
              "identity_hate  0.266009      0.201600  0.286867  0.115128  0.337736   \n",
              "\n",
              "               identity_hate  \n",
              "toxic               0.266009  \n",
              "severe_toxic        0.201600  \n",
              "obscene             0.286867  \n",
              "threat              0.115128  \n",
              "insult              0.337736  \n",
              "identity_hate       1.000000  "
            ],
            "text/html": [
              "\n",
              "  <div id=\"df-80b16b17-b3f9-45cf-a383-e0e56a675282\">\n",
              "    <div class=\"colab-df-container\">\n",
              "      <div>\n",
              "<style scoped>\n",
              "    .dataframe tbody tr th:only-of-type {\n",
              "        vertical-align: middle;\n",
              "    }\n",
              "\n",
              "    .dataframe tbody tr th {\n",
              "        vertical-align: top;\n",
              "    }\n",
              "\n",
              "    .dataframe thead th {\n",
              "        text-align: right;\n",
              "    }\n",
              "</style>\n",
              "<table border=\"1\" class=\"dataframe\">\n",
              "  <thead>\n",
              "    <tr style=\"text-align: right;\">\n",
              "      <th></th>\n",
              "      <th>toxic</th>\n",
              "      <th>severe_toxic</th>\n",
              "      <th>obscene</th>\n",
              "      <th>threat</th>\n",
              "      <th>insult</th>\n",
              "      <th>identity_hate</th>\n",
              "    </tr>\n",
              "  </thead>\n",
              "  <tbody>\n",
              "    <tr>\n",
              "      <th>toxic</th>\n",
              "      <td>1.000000</td>\n",
              "      <td>0.308619</td>\n",
              "      <td>0.676515</td>\n",
              "      <td>0.157058</td>\n",
              "      <td>0.647518</td>\n",
              "      <td>0.266009</td>\n",
              "    </tr>\n",
              "    <tr>\n",
              "      <th>severe_toxic</th>\n",
              "      <td>0.308619</td>\n",
              "      <td>1.000000</td>\n",
              "      <td>0.403014</td>\n",
              "      <td>0.123601</td>\n",
              "      <td>0.375807</td>\n",
              "      <td>0.201600</td>\n",
              "    </tr>\n",
              "    <tr>\n",
              "      <th>obscene</th>\n",
              "      <td>0.676515</td>\n",
              "      <td>0.403014</td>\n",
              "      <td>1.000000</td>\n",
              "      <td>0.141179</td>\n",
              "      <td>0.741272</td>\n",
              "      <td>0.286867</td>\n",
              "    </tr>\n",
              "    <tr>\n",
              "      <th>threat</th>\n",
              "      <td>0.157058</td>\n",
              "      <td>0.123601</td>\n",
              "      <td>0.141179</td>\n",
              "      <td>1.000000</td>\n",
              "      <td>0.150022</td>\n",
              "      <td>0.115128</td>\n",
              "    </tr>\n",
              "    <tr>\n",
              "      <th>insult</th>\n",
              "      <td>0.647518</td>\n",
              "      <td>0.375807</td>\n",
              "      <td>0.741272</td>\n",
              "      <td>0.150022</td>\n",
              "      <td>1.000000</td>\n",
              "      <td>0.337736</td>\n",
              "    </tr>\n",
              "    <tr>\n",
              "      <th>identity_hate</th>\n",
              "      <td>0.266009</td>\n",
              "      <td>0.201600</td>\n",
              "      <td>0.286867</td>\n",
              "      <td>0.115128</td>\n",
              "      <td>0.337736</td>\n",
              "      <td>1.000000</td>\n",
              "    </tr>\n",
              "  </tbody>\n",
              "</table>\n",
              "</div>\n",
              "      <button class=\"colab-df-convert\" onclick=\"convertToInteractive('df-80b16b17-b3f9-45cf-a383-e0e56a675282')\"\n",
              "              title=\"Convert this dataframe to an interactive table.\"\n",
              "              style=\"display:none;\">\n",
              "        \n",
              "  <svg xmlns=\"http://www.w3.org/2000/svg\" height=\"24px\"viewBox=\"0 0 24 24\"\n",
              "       width=\"24px\">\n",
              "    <path d=\"M0 0h24v24H0V0z\" fill=\"none\"/>\n",
              "    <path d=\"M18.56 5.44l.94 2.06.94-2.06 2.06-.94-2.06-.94-.94-2.06-.94 2.06-2.06.94zm-11 1L8.5 8.5l.94-2.06 2.06-.94-2.06-.94L8.5 2.5l-.94 2.06-2.06.94zm10 10l.94 2.06.94-2.06 2.06-.94-2.06-.94-.94-2.06-.94 2.06-2.06.94z\"/><path d=\"M17.41 7.96l-1.37-1.37c-.4-.4-.92-.59-1.43-.59-.52 0-1.04.2-1.43.59L10.3 9.45l-7.72 7.72c-.78.78-.78 2.05 0 2.83L4 21.41c.39.39.9.59 1.41.59.51 0 1.02-.2 1.41-.59l7.78-7.78 2.81-2.81c.8-.78.8-2.07 0-2.86zM5.41 20L4 18.59l7.72-7.72 1.47 1.35L5.41 20z\"/>\n",
              "  </svg>\n",
              "      </button>\n",
              "      \n",
              "  <style>\n",
              "    .colab-df-container {\n",
              "      display:flex;\n",
              "      flex-wrap:wrap;\n",
              "      gap: 12px;\n",
              "    }\n",
              "\n",
              "    .colab-df-convert {\n",
              "      background-color: #E8F0FE;\n",
              "      border: none;\n",
              "      border-radius: 50%;\n",
              "      cursor: pointer;\n",
              "      display: none;\n",
              "      fill: #1967D2;\n",
              "      height: 32px;\n",
              "      padding: 0 0 0 0;\n",
              "      width: 32px;\n",
              "    }\n",
              "\n",
              "    .colab-df-convert:hover {\n",
              "      background-color: #E2EBFA;\n",
              "      box-shadow: 0px 1px 2px rgba(60, 64, 67, 0.3), 0px 1px 3px 1px rgba(60, 64, 67, 0.15);\n",
              "      fill: #174EA6;\n",
              "    }\n",
              "\n",
              "    [theme=dark] .colab-df-convert {\n",
              "      background-color: #3B4455;\n",
              "      fill: #D2E3FC;\n",
              "    }\n",
              "\n",
              "    [theme=dark] .colab-df-convert:hover {\n",
              "      background-color: #434B5C;\n",
              "      box-shadow: 0px 1px 3px 1px rgba(0, 0, 0, 0.15);\n",
              "      filter: drop-shadow(0px 1px 2px rgba(0, 0, 0, 0.3));\n",
              "      fill: #FFFFFF;\n",
              "    }\n",
              "  </style>\n",
              "\n",
              "      <script>\n",
              "        const buttonEl =\n",
              "          document.querySelector('#df-80b16b17-b3f9-45cf-a383-e0e56a675282 button.colab-df-convert');\n",
              "        buttonEl.style.display =\n",
              "          google.colab.kernel.accessAllowed ? 'block' : 'none';\n",
              "\n",
              "        async function convertToInteractive(key) {\n",
              "          const element = document.querySelector('#df-80b16b17-b3f9-45cf-a383-e0e56a675282');\n",
              "          const dataTable =\n",
              "            await google.colab.kernel.invokeFunction('convertToInteractive',\n",
              "                                                     [key], {});\n",
              "          if (!dataTable) return;\n",
              "\n",
              "          const docLinkHtml = 'Like what you see? Visit the ' +\n",
              "            '<a target=\"_blank\" href=https://colab.research.google.com/notebooks/data_table.ipynb>data table notebook</a>'\n",
              "            + ' to learn more about interactive tables.';\n",
              "          element.innerHTML = '';\n",
              "          dataTable['output_type'] = 'display_data';\n",
              "          await google.colab.output.renderOutput(dataTable, element);\n",
              "          const docLink = document.createElement('div');\n",
              "          docLink.innerHTML = docLinkHtml;\n",
              "          element.appendChild(docLink);\n",
              "        }\n",
              "      </script>\n",
              "    </div>\n",
              "  </div>\n",
              "  "
            ]
          },
          "metadata": {},
          "execution_count": 72
        }
      ]
    },
    {
      "cell_type": "code",
      "source": [
        "n = df[df[\"toxic\"]==1][\"toxic\"].count()\n",
        "print(n)"
      ],
      "metadata": {
        "colab": {
          "base_uri": "https://localhost:8080/"
        },
        "id": "Bivk1lixAu99",
        "outputId": "630d8bbd-1c29-48e8-a8bc-9b494493f88d"
      },
      "execution_count": 60,
      "outputs": [
        {
          "output_type": "stream",
          "name": "stdout",
          "text": [
            "15294\n"
          ]
        }
      ]
    },
    {
      "cell_type": "code",
      "source": [
        "# balancing\n",
        "df = pd.concat([ df[df[\"toxic\"] == 0].sample(n) , df[df[\"toxic\"] == 1] ])\n"
      ],
      "metadata": {
        "id": "N7QLHvuL6cDi"
      },
      "execution_count": 144,
      "outputs": []
    },
    {
      "cell_type": "code",
      "source": [
        "from nltk.corpus import stopwords\n",
        "nltk.download('stopwords')\n",
        "stop_words = stopwords.words('english')\n",
        "def preprocess(text, join_back=True):\n",
        "    result = []\n",
        "    for token in gensim.utils.simple_preprocess(text):\n",
        "        if token not in stop_words:\n",
        "            result.append(token)\n",
        "    if join_back:\n",
        "        result = \" \".join(result)\n",
        "    return result\n"
      ],
      "metadata": {
        "colab": {
          "base_uri": "https://localhost:8080/"
        },
        "id": "Eq4dRaP9Ojs4",
        "outputId": "fca3199b-1a6b-443c-f872-49ff9e60de9b"
      },
      "execution_count": 15,
      "outputs": [
        {
          "output_type": "stream",
          "name": "stderr",
          "text": [
            "[nltk_data] Downloading package stopwords to /root/nltk_data...\n",
            "[nltk_data]   Unzipping corpora/stopwords.zip.\n"
          ]
        }
      ]
    },
    {
      "cell_type": "code",
      "source": [
        "df[\"comment_text_clean\"] = df[\"comment_text\"].apply(preprocess)"
      ],
      "metadata": {
        "id": "3Jd6CG2SOmqR"
      },
      "execution_count": 156,
      "outputs": []
    },
    {
      "cell_type": "markdown",
      "source": [
        "## simple preprocessing works better than hard using proprocess() function"
      ],
      "metadata": {
        "id": "QyW8_TL8ZUmY"
      }
    },
    {
      "cell_type": "code",
      "source": [
        "# simple preprocessing. \\n removal\n",
        "import re\n",
        "df['comment_text_clean'] = df['comment_text'].apply(lambda x: re.sub(r'\\n', '', x))\n",
        "df['comment_text_clean'] = df['comment_text_clean'].apply(lambda x: re.sub(r'[^\\w\\s]','',x))\n",
        "df['comment_text_clean'] = df['comment_text_clean'].apply(str.lower)"
      ],
      "metadata": {
        "id": "J5-OyMu3R1-o"
      },
      "execution_count": 44,
      "outputs": []
    },
    {
      "cell_type": "markdown",
      "source": [
        "### **K-fold validation**\n"
      ],
      "metadata": {
        "id": "uujCRaXNZrHc"
      }
    },
    {
      "cell_type": "markdown",
      "source": [
        "using CountVectorizer"
      ],
      "metadata": {
        "id": "zH5bOR4rfvVd"
      }
    },
    {
      "cell_type": "code",
      "source": [
        "skf = StratifiedKFold(n_splits=5, random_state=1, shuffle=True)\n",
        "folds_train_test_ids = [el for el in skf.split(df, df[\"toxic\"])]"
      ],
      "metadata": {
        "id": "eqR-ayDn-hrh"
      },
      "execution_count": 48,
      "outputs": []
    },
    {
      "cell_type": "code",
      "source": [
        "all_train_preds = []\n",
        "all_test_preds = []\n",
        "all_train_targets = []\n",
        "all_test_targets = []\n",
        "all_models = []\n",
        "for fold_id, (train_ids, test_ids) in enumerate(folds_train_test_ids):\n",
        "    model = Pipeline([\n",
        "        (\"vectorizer\", CountVectorizer()),\n",
        "        (\"logistic_reg\", LogisticRegression(max_iter=1000))\n",
        "    ])\n",
        "    model.fit(df[\"comment_text_clean\"].iloc[train_ids], df[\"toxic\"].iloc[train_ids])\n",
        "\n",
        "    fold_train_preds = model.predict_proba(df[\"comment_text_clean\"].iloc[train_ids])[:,1]\n",
        "    fold_test_preds = model.predict_proba(df[\"comment_text_clean\"].iloc[test_ids])[:,1]\n",
        "\n",
        "    fold_train_targets = df[\"toxic\"].iloc[train_ids].values\n",
        "    fold_test_targets = df[\"toxic\"].iloc[test_ids].values\n",
        "    print(\n",
        "        f\"Fold {fold_id}\\n\"\n",
        "        f\"Train Roc Auc score = {roc_auc_score(fold_train_targets, fold_train_preds)}\\n\"\n",
        "        f\"Test Roc Auc score = {roc_auc_score(fold_test_targets, fold_test_preds)}\"\n",
        "    )\n",
        "    all_train_preds.append(fold_train_preds)\n",
        "    all_test_preds.append(fold_test_preds)\n",
        "    all_train_targets.append(fold_train_targets)\n",
        "    all_test_targets.append(fold_test_targets)\n",
        "    all_models.append(model)\n",
        "\n",
        "    \n",
        "all_train_preds = np.concatenate(all_train_preds)\n",
        "all_test_preds = np.concatenate(all_test_preds)\n",
        "all_train_targets = np.concatenate(all_train_targets)\n",
        "all_test_targets = np.concatenate(all_test_targets)\n",
        "\n",
        "\n",
        "print(f\"OOF Test Score: {roc_auc_score(all_test_targets, all_test_preds)}\")\n",
        "print(f\"OOF Train Score: {roc_auc_score(all_train_targets, all_train_preds)}\")"
      ],
      "metadata": {
        "colab": {
          "base_uri": "https://localhost:8080/"
        },
        "id": "3Qokp9oV39B6",
        "outputId": "2cda6c7c-db9a-40cc-ec76-bede7e86bbe5"
      },
      "execution_count": 184,
      "outputs": [
        {
          "output_type": "stream",
          "name": "stdout",
          "text": [
            "Fold 0\n",
            "Train Roc Auc score = 0.9989200924745595\n",
            "Test Roc Auc score = 0.9539359470780651\n",
            "Fold 1\n",
            "Train Roc Auc score = 0.9988575320288273\n",
            "Test Roc Auc score = 0.9559034103301948\n",
            "Fold 2\n",
            "Train Roc Auc score = 0.9988715972737273\n",
            "Test Roc Auc score = 0.9555117450946468\n",
            "Fold 3\n",
            "Train Roc Auc score = 0.9989405838560081\n",
            "Test Roc Auc score = 0.9576020303552694\n",
            "Fold 4\n",
            "Train Roc Auc score = 0.9989334432632817\n",
            "Test Roc Auc score = 0.9522531162267429\n",
            "OOF Test Score: 0.9550673842937781\n",
            "OOF Train Score: 0.9989055480980864\n"
          ]
        }
      ]
    },
    {
      "cell_type": "code",
      "source": [
        "df_test = pd.read_csv(\"/content/test.csv\")\n",
        "df_test"
      ],
      "metadata": {
        "id": "to3IPN8IScnv"
      },
      "execution_count": null,
      "outputs": []
    },
    {
      "cell_type": "code",
      "source": [
        "df_test['comment_text_clean'] = df_test['comment_text'].apply(lambda x: re.sub(r'\\n', '', x))\n",
        "df_test['comment_text_clean'] = df_test['comment_text_clean'].apply(lambda x: re.sub(r'[^\\w\\s]','',x))\n",
        "df_test['comment_text_clean'] = df_test['comment_text_clean'].apply(str.lower)"
      ],
      "metadata": {
        "id": "QCQVPZ4voiIN"
      },
      "execution_count": null,
      "outputs": []
    },
    {
      "cell_type": "code",
      "source": [
        "df_labels = pd.read_csv(\"/content/test_labels.csv\")\n",
        "df_test = df_test.merge(df_labels, on=\"id\")\n",
        "df_test = df_test[~(df_test[criteria] == -1).any(axis=1)].reset_index(drop=True)\n"
      ],
      "metadata": {
        "id": "V5xcoBGPqZhj"
      },
      "execution_count": 27,
      "outputs": []
    },
    {
      "cell_type": "code",
      "source": [
        "df = df.iloc[df_test.index]"
      ],
      "metadata": {
        "id": "WOEeihejHcEU"
      },
      "execution_count": 29,
      "outputs": []
    },
    {
      "cell_type": "code",
      "source": [
        "# df_test = df_test.iloc[df.index]"
      ],
      "metadata": {
        "id": "pcd1FFJcrJ-F"
      },
      "execution_count": 35,
      "outputs": []
    },
    {
      "cell_type": "code",
      "source": [
        "df_test.to_csv(\"final_test.csv\")"
      ],
      "metadata": {
        "id": "BCvjXWNfIsaP"
      },
      "execution_count": 40,
      "outputs": []
    },
    {
      "cell_type": "code",
      "source": [
        "test_pred = []\n",
        "for model in all_models:\n",
        "    fold_test_pred = model.predict_proba(df_test[\"comment_text_clean\"])[:,1]\n",
        "    print(len(fold_test_pred))\n",
        "    test_pred.append(fold_test_pred)\n",
        "\n"
      ],
      "metadata": {
        "id": "ST1NWgmUtlaR"
      },
      "execution_count": null,
      "outputs": []
    },
    {
      "cell_type": "code",
      "source": [
        "y_pred = np.stack(test_pred,axis=0).mean(0)\n",
        "print(\"FINAL TESTING\")\n",
        "print(\"ROC AUC = \",roc_auc_score(df_test[\"toxic_x\"].values,  y_pred))\n"
      ],
      "metadata": {
        "colab": {
          "base_uri": "https://localhost:8080/"
        },
        "id": "pqrUObrU0OD-",
        "outputId": "bcd30b2d-fdca-41cc-ea5a-822ce1c6aaa8"
      },
      "execution_count": 332,
      "outputs": [
        {
          "output_type": "stream",
          "name": "stdout",
          "text": [
            "FINAL TESTING\n",
            "ROC AUC =  0.9409854811735874\n"
          ]
        }
      ]
    },
    {
      "cell_type": "markdown",
      "source": [
        "**using TfidfVectorizer**"
      ],
      "metadata": {
        "id": "WDjWLbxi13cT"
      }
    },
    {
      "cell_type": "code",
      "source": [
        "all_train_preds = []\n",
        "all_test_preds = []\n",
        "all_train_targets = []\n",
        "all_test_targets = []\n",
        "all_models = []\n",
        "for fold_id, (train_ids, test_ids) in enumerate(folds_train_test_ids):\n",
        "    model = Pipeline([\n",
        "        (\"vectorizer\", TfidfVectorizer()),\n",
        "        (\"logistic_reg\", LogisticRegression(max_iter=1000))\n",
        "    ])\n",
        "    model.fit(df[\"comment_text_clean\"].iloc[train_ids], df[\"toxic\"].iloc[train_ids])\n",
        "\n",
        "    fold_train_preds = model.predict_proba(df[\"comment_text_clean\"].iloc[train_ids])[:,1]\n",
        "    fold_test_preds = model.predict_proba(df[\"comment_text_clean\"].iloc[test_ids])[:,1]\n",
        "\n",
        "    fold_train_targets = df[\"toxic\"].iloc[train_ids].values\n",
        "    fold_test_targets = df[\"toxic\"].iloc[test_ids].values\n",
        "    print(\n",
        "        f\"Fold {fold_id}\\n\"\n",
        "        f\"Train Roc Auc score = {roc_auc_score(fold_train_targets, fold_train_preds)}\\n\"\n",
        "        f\"Test Roc Auc score = {roc_auc_score(fold_test_targets, fold_test_preds)}\"\n",
        "    )\n",
        "    all_train_preds.append(fold_train_preds)\n",
        "    all_test_preds.append(fold_test_preds)\n",
        "    all_train_targets.append(fold_train_targets)\n",
        "    all_test_targets.append(fold_test_targets)\n",
        "    all_models.append(model)\n",
        "\n",
        "    \n",
        "all_train_preds = np.concatenate(all_train_preds)\n",
        "all_test_preds = np.concatenate(all_test_preds)\n",
        "all_train_targets = np.concatenate(all_train_targets)\n",
        "all_test_targets = np.concatenate(all_test_targets)\n",
        "\n",
        "\n",
        "print(f\"OOF Test Score: {roc_auc_score(all_test_targets, all_test_preds)}\")\n",
        "print(f\"OOF Train Score: {roc_auc_score(all_train_targets, all_train_preds)}\")"
      ],
      "metadata": {
        "colab": {
          "base_uri": "https://localhost:8080/"
        },
        "id": "CUTrkF9WphMY",
        "outputId": "a3dfdeb3-11f1-4110-8471-299acd1adae6"
      },
      "execution_count": 333,
      "outputs": [
        {
          "output_type": "stream",
          "name": "stdout",
          "text": [
            "Fold 0\n",
            "Train Roc Auc score = 0.979987297524019\n",
            "Test Roc Auc score = 0.9534312706592725\n",
            "Fold 1\n",
            "Train Roc Auc score = 0.9797903573744587\n",
            "Test Roc Auc score = 0.9551889017995336\n",
            "Fold 2\n",
            "Train Roc Auc score = 0.9799613381121541\n",
            "Test Roc Auc score = 0.9585164533061836\n",
            "Fold 3\n",
            "Train Roc Auc score = 0.9794416190081643\n",
            "Test Roc Auc score = 0.9595261470992007\n",
            "Fold 4\n",
            "Train Roc Auc score = 0.980157004200058\n",
            "Test Roc Auc score = 0.9569853701276253\n",
            "OOF Test Score: 0.9567056034319638\n",
            "OOF Train Score: 0.9798685278320005\n"
          ]
        }
      ]
    },
    {
      "cell_type": "code",
      "source": [
        "test_pred = []\n",
        "for model in all_models:\n",
        "    fold_test_pred = model.predict_proba(df_test[\"comment_text_clean\"])[:,1]\n",
        "    test_pred.append(fold_test_pred)\n",
        "\n"
      ],
      "metadata": {
        "id": "6f4_zTdW2b5z"
      },
      "execution_count": null,
      "outputs": []
    },
    {
      "cell_type": "code",
      "source": [
        "y_pred = np.stack(test_pred,axis=0).mean(0)\n",
        "print(\"FINAL TESTING\")\n",
        "print(\"ROC AUC = \",roc_auc_score(df_test[\"toxic_x\"].values,  y_pred))\n"
      ],
      "metadata": {
        "colab": {
          "base_uri": "https://localhost:8080/"
        },
        "outputId": "c2de674a-c277-4655-e52d-40a50c8e07f8",
        "id": "oIfJNxAJ2b50"
      },
      "execution_count": 335,
      "outputs": [
        {
          "output_type": "stream",
          "name": "stdout",
          "text": [
            "FINAL TESTING\n",
            "ROC AUC =  0.9412737572442317\n"
          ]
        }
      ]
    },
    {
      "cell_type": "markdown",
      "source": [
        "**using spacy embeddings**"
      ],
      "metadata": {
        "id": "XffCsFFz2l5c"
      }
    },
    {
      "cell_type": "code",
      "source": [
        "!python -m spacy download en_core_web_lg\n"
      ],
      "metadata": {
        "id": "bT4lVe7g2sc7"
      },
      "execution_count": null,
      "outputs": []
    },
    {
      "cell_type": "code",
      "source": [
        "import numpy as np\n",
        "import spacy\n",
        "from sklearn.base import BaseEstimator, TransformerMixin\n",
        "\n",
        "spacy_nlp = spacy.load('en_core_web_lg')\n",
        "# spacy_doc = spacy_nlp(df['comment_text_clean'][0])\n",
        "\n",
        "class SpacyEmbeddings(TransformerMixin,BaseEstimator):\n",
        "    def __init__(self, model=spacy_nlp):\n",
        "        self.model = model\n",
        "\n",
        "    def fit(self,X,y=None):\n",
        "        return self\n",
        "\n",
        "    def transform(self,X):\n",
        "        data = list(spacy_nlp(doc).vector.reshape(1,-1) for doc in X)\n",
        "        return np.concatenate(data)"
      ],
      "metadata": {
        "id": "JnwTQMqS7NJe"
      },
      "execution_count": 361,
      "outputs": []
    },
    {
      "cell_type": "code",
      "source": [
        "all_train_preds = []\n",
        "all_test_preds = []\n",
        "all_train_targets = []\n",
        "all_test_targets = []\n",
        "all_models = []\n",
        "for fold_id, (train_ids, test_ids) in enumerate(folds_train_test_ids):\n",
        "    model = Pipeline([\n",
        "        (\"vectorizer\", SpacyEmbeddings()),\n",
        "        (\"logistic_reg\", LogisticRegression(max_iter=1000))\n",
        "    ])\n",
        "    model.fit(df[\"comment_text_clean\"].iloc[train_ids], df[\"toxic\"].iloc[train_ids])\n",
        "\n",
        "    fold_train_preds = model.predict_proba(df[\"comment_text_clean\"].iloc[train_ids])[:,1]\n",
        "    fold_test_preds = model.predict_proba(df[\"comment_text_clean\"].iloc[test_ids])[:,1]\n",
        "\n",
        "    fold_train_targets = df[\"toxic\"].iloc[train_ids].values\n",
        "    fold_test_targets = df[\"toxic\"].iloc[test_ids].values\n",
        "    print(\n",
        "        f\"Fold {fold_id}\\n\"\n",
        "        f\"Train Roc Auc score = {roc_auc_score(fold_train_targets, fold_train_preds)}\\n\"\n",
        "        f\"Test Roc Auc score = {roc_auc_score(fold_test_targets, fold_test_preds)}\"\n",
        "    )\n",
        "    all_train_preds.append(fold_train_preds)\n",
        "    all_test_preds.append(fold_test_preds)\n",
        "    all_train_targets.append(fold_train_targets)\n",
        "    all_test_targets.append(fold_test_targets)\n",
        "    all_models.append(model)\n",
        "\n",
        "    \n",
        "all_train_preds = np.concatenate(all_train_preds)\n",
        "all_test_preds = np.concatenate(all_test_preds)\n",
        "all_train_targets = np.concatenate(all_train_targets)\n",
        "all_test_targets = np.concatenate(all_test_targets)\n",
        "\n",
        "\n",
        "print(f\"OOF Test Score: {roc_auc_score(all_test_targets, all_test_preds)}\")\n",
        "print(f\"OOF Train Score: {roc_auc_score(all_train_targets, all_train_preds)}\")"
      ],
      "metadata": {
        "colab": {
          "base_uri": "https://localhost:8080/"
        },
        "id": "WTgq4Cxc95Ta",
        "outputId": "5312fa3f-1802-4d65-941a-96344be03e61"
      },
      "execution_count": 362,
      "outputs": [
        {
          "output_type": "stream",
          "name": "stdout",
          "text": [
            "Fold 0\n",
            "Train Roc Auc score = 0.958841289025752\n",
            "Test Roc Auc score = 0.9519674151622642\n",
            "Fold 1\n",
            "Train Roc Auc score = 0.9588839757580778\n",
            "Test Roc Auc score = 0.9519356224180417\n",
            "Fold 2\n",
            "Train Roc Auc score = 0.9585358584417104\n",
            "Test Roc Auc score = 0.9536621554454663\n",
            "Fold 3\n",
            "Train Roc Auc score = 0.9581195419386583\n",
            "Test Roc Auc score = 0.9540216381086936\n",
            "Fold 4\n",
            "Train Roc Auc score = 0.9580818951841144\n",
            "Test Roc Auc score = 0.9554164864488688\n",
            "OOF Test Score: 0.9533970155485592\n",
            "OOF Train Score: 0.9584944284624131\n"
          ]
        }
      ]
    },
    {
      "cell_type": "code",
      "source": [],
      "metadata": {
        "id": "4darZBgMJVev"
      },
      "execution_count": null,
      "outputs": []
    },
    {
      "cell_type": "code",
      "source": [
        "test_pred = []\n",
        "for model in all_models:\n",
        "    fold_test_pred = model.predict_proba(df_test[\"comment_text_clean\"])[:,1]\n",
        "    test_pred.append(fold_test_pred)\n",
        "\n"
      ],
      "metadata": {
        "id": "H1a4AZCuJV2M"
      },
      "execution_count": 363,
      "outputs": []
    },
    {
      "cell_type": "code",
      "source": [
        "y_pred = np.stack(test_pred,axis=0).mean(0)\n",
        "print(\"FINAL TESTING\")\n",
        "print(\"ROC AUC = \",roc_auc_score(df_test[\"toxic_x\"].values,  y_pred))\n"
      ],
      "metadata": {
        "colab": {
          "base_uri": "https://localhost:8080/"
        },
        "outputId": "b6e4c522-25e1-420f-8e7a-60d25e9292fa",
        "id": "aaDU9bciJV2N"
      },
      "execution_count": 364,
      "outputs": [
        {
          "output_type": "stream",
          "name": "stdout",
          "text": [
            "FINAL TESTING\n",
            "ROC AUC =  0.9387802441424898\n"
          ]
        }
      ]
    },
    {
      "cell_type": "markdown",
      "source": [
        "**using SentenceTransformer**"
      ],
      "metadata": {
        "id": "a7KSeJFc5P5D"
      }
    },
    {
      "cell_type": "code",
      "source": [
        "import torch\n"
      ],
      "metadata": {
        "id": "Q8ldy1BF74Cf"
      },
      "execution_count": 41,
      "outputs": []
    },
    {
      "cell_type": "code",
      "source": [
        "torch.cuda.is_available()\n"
      ],
      "metadata": {
        "colab": {
          "base_uri": "https://localhost:8080/"
        },
        "id": "On13tpHD705i",
        "outputId": "a878e544-44bd-42f8-b688-864007b5ee1e"
      },
      "execution_count": 42,
      "outputs": [
        {
          "output_type": "execute_result",
          "data": {
            "text/plain": [
              "True"
            ]
          },
          "metadata": {},
          "execution_count": 42
        }
      ]
    },
    {
      "cell_type": "code",
      "source": [
        "pip install sentence_transformers"
      ],
      "metadata": {
        "id": "AVtHZYek9UBH"
      },
      "execution_count": null,
      "outputs": []
    },
    {
      "cell_type": "code",
      "source": [
        "from sentence_transformers import SentenceTransformer\n",
        "\n",
        "sent_tr = SentenceTransformer('all-MiniLM-L6-v2',device=\"cuda\")\n",
        "\n",
        "train_embs = sent_tr.encode(df[\"comment_text_clean\"].to_list())\n",
        "test_embs = sent_tr.encode(df_test[\"comment_text_clean\"].to_list())"
      ],
      "metadata": {
        "id": "ALhaqlvy8Mxw"
      },
      "execution_count": 46,
      "outputs": []
    },
    {
      "cell_type": "code",
      "source": [
        "all_train_preds = []\n",
        "all_test_preds = []\n",
        "all_train_targets = []\n",
        "all_test_targets = []\n",
        "all_models = []\n",
        "for fold_id, (train_ids, test_ids) in enumerate(folds_train_test_ids):\n",
        "    model = Pipeline([\n",
        "        (\"normalize\", StandardScaler()),\n",
        "        (\"logistic_reg\", LogisticRegression(max_iter=1000))\n",
        "    ])\n",
        "    model.fit(train_embs[train_ids], df[\"toxic\"].iloc[train_ids])\n",
        "\n",
        "    fold_train_preds = model.predict_proba(train_embs[train_ids])[:,1]\n",
        "    fold_test_preds = model.predict_proba(train_embs[test_ids])[:,1]\n",
        "\n",
        "    fold_train_targets = df[\"toxic\"].iloc[train_ids].values\n",
        "    fold_test_targets = df[\"toxic\"].iloc[test_ids].values\n",
        "    print(\n",
        "        f\"Fold {fold_id}\\n\"\n",
        "        f\"Train Roc Auc score = {roc_auc_score(fold_train_targets, fold_train_preds)}\\n\"\n",
        "        f\"Test Roc Auc score = {roc_auc_score(fold_test_targets, fold_test_preds)}\"\n",
        "    )\n",
        "    all_train_preds.append(fold_train_preds)\n",
        "    all_test_preds.append(fold_test_preds)\n",
        "    all_train_targets.append(fold_train_targets)\n",
        "    all_test_targets.append(fold_test_targets)\n",
        "    all_models.append(model)\n",
        "\n",
        "    \n",
        "all_train_preds = np.concatenate(all_train_preds)\n",
        "all_test_preds = np.concatenate(all_test_preds)\n",
        "all_train_targets = np.concatenate(all_train_targets)\n",
        "all_test_targets = np.concatenate(all_test_targets)\n",
        "\n",
        "\n",
        "print(f\"OOF Test Score: {roc_auc_score(all_test_targets, all_test_preds)}\")\n",
        "print(f\"OOF Train Score: {roc_auc_score(all_train_targets, all_train_preds)}\")"
      ],
      "metadata": {
        "colab": {
          "base_uri": "https://localhost:8080/"
        },
        "id": "p9Kxx5G-KsbT",
        "outputId": "9231e239-4710-4203-9f1a-680fe41b29a9"
      },
      "execution_count": 49,
      "outputs": [
        {
          "output_type": "stream",
          "name": "stdout",
          "text": [
            "Fold 0\n",
            "Train Roc Auc score = 0.9671519712650942\n",
            "Test Roc Auc score = 0.9545650381931088\n",
            "Fold 1\n",
            "Train Roc Auc score = 0.9673400150599927\n",
            "Test Roc Auc score = 0.952565258009562\n",
            "Fold 2\n",
            "Train Roc Auc score = 0.9650569868197583\n",
            "Test Roc Auc score = 0.9638575039841732\n",
            "Fold 3\n",
            "Train Roc Auc score = 0.9658174845909279\n",
            "Test Roc Auc score = 0.961013809178266\n",
            "Fold 4\n",
            "Train Roc Auc score = 0.9666327639602207\n",
            "Test Roc Auc score = 0.957225905402731\n",
            "OOF Test Score: 0.957910172953175\n",
            "OOF Train Score: 0.9664088658288319\n"
          ]
        }
      ]
    },
    {
      "cell_type": "code",
      "source": [
        "test_pred = []\n",
        "for model in all_models:\n",
        "    fold_test_pred = model.predict_proba(test_embs)[:,1]\n",
        "    test_pred.append(fold_test_pred)\n",
        "\n"
      ],
      "metadata": {
        "id": "J-taeTC8Uedy"
      },
      "execution_count": 51,
      "outputs": []
    },
    {
      "cell_type": "code",
      "source": [
        "y_pred = np.stack(test_pred,axis=0).mean(0)\n",
        "print(\"FINAL TESTING\")\n",
        "print(\"ROC AUC = \",roc_auc_score(df_test[\"toxic\"].values,  y_pred))\n"
      ],
      "metadata": {
        "colab": {
          "base_uri": "https://localhost:8080/"
        },
        "outputId": "53375fb1-7842-4d59-a307-479442fa359b",
        "id": "cAeRFnrQUedy"
      },
      "execution_count": 53,
      "outputs": [
        {
          "output_type": "stream",
          "name": "stdout",
          "text": [
            "FINAL TESTING\n",
            "ROC AUC =  0.9374485950568481\n"
          ]
        }
      ]
    },
    {
      "cell_type": "markdown",
      "source": [
        "**using** **w2vec**"
      ],
      "metadata": {
        "id": "freHZDDQM1SK"
      }
    },
    {
      "cell_type": "code",
      "source": [
        "import transformers"
      ],
      "metadata": {
        "id": "ge-ABa3lNaw7"
      },
      "execution_count": 177,
      "outputs": []
    },
    {
      "cell_type": "code",
      "source": [
        "# from transformers import GensimWord2VecVectorizer\n",
        "from gensim.sklearn_api import W2VTransformer\n",
        "\n",
        "all_train_preds = []\n",
        "all_test_preds = []\n",
        "all_train_targets = []\n",
        "all_test_targets = []\n",
        "all_models = []\n",
        "for fold_id, (train_ids, test_ids) in enumerate(folds_train_test_ids):\n",
        "    model = Pipeline([\n",
        "        (\"vectorizer\", W2VTransformer(size=16698, min_count=5, seed=1)),\n",
        "        (\"logistic_reg\", LogisticRegression(max_iter=1000))\n",
        "    ])\n",
        "    model.fit(df[\"comment_text_clean\"].iloc[train_ids].apply(str.split), df[\"toxic\"].iloc[train_ids])\n",
        "\n",
        "    fold_train_preds = model.predict_proba(df[\"comment_text_clean\"].iloc[train_ids])[:,1]\n",
        "    fold_test_preds = model.predict_proba(df[\"comment_text_clean\"].iloc[test_ids])[:,1]\n",
        "\n",
        "    fold_train_targets = df[\"toxic\"].iloc[train_ids].values\n",
        "    fold_test_targets = df[\"toxic\"].iloc[test_ids].values\n",
        "    print(\n",
        "        f\"Fold {fold_id}\\n\"\n",
        "        f\"Train Roc Auc score = {roc_auc_score(fold_train_targets, fold_train_preds)}\\n\"\n",
        "        f\"Test Roc Auc score = {roc_auc_score(fold_test_targets, fold_test_preds)}\"\n",
        "    )\n",
        "    all_train_preds.append(fold_train_preds)\n",
        "    all_test_preds.append(fold_test_preds)\n",
        "    all_train_targets.append(fold_train_targets)\n",
        "    all_test_targets.append(fold_test_targets)\n",
        "    all_models.append(model)\n",
        "\n",
        "    \n",
        "all_train_preds = np.concatenate(all_train_preds)\n",
        "all_test_preds = np.concatenate(all_test_preds)\n",
        "all_train_targets = np.concatenate(all_train_targets)\n",
        "all_test_targets = np.concatenate(all_test_targets)\n",
        "\n",
        "\n",
        "print(f\"OOF Test Score: {roc_auc_score(all_test_targets, all_test_preds)}\")\n",
        "print(f\"OOF Train Score: {roc_auc_score(all_train_targets, all_train_preds)}\")"
      ],
      "metadata": {
        "id": "fb1rcOSGOxpD"
      },
      "execution_count": null,
      "outputs": []
    }
  ]
}