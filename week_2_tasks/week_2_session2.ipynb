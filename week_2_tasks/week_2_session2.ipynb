{
  "nbformat": 4,
  "nbformat_minor": 0,
  "metadata": {
    "colab": {
      "provenance": [],
      "collapsed_sections": [
        "Woqk0TTCvVYq",
        "OTOsY4Z2joaw",
        "StXXqMS2skIz"
      ]
    },
    "kernelspec": {
      "name": "python3",
      "display_name": "Python 3"
    },
    "language_info": {
      "name": "python"
    },
    "accelerator": "GPU",
    "gpuClass": "standard"
  },
  "cells": [
    {
      "cell_type": "code",
      "execution_count": 1,
      "metadata": {
        "id": "jatZD0b0f45X"
      },
      "outputs": [],
      "source": [
        "import os\n",
        "os.environ[\"CUDA_VISIBLE_DEVICES\"]=\"0\"\n",
        "os.environ[\"TOKENIZERS_PARALLELISM\"]=\"true\"\n",
        "import calendar\n",
        "\n",
        "import pandas as pd\n",
        "import numpy as np \n",
        "import gensim\n",
        "import nltk\n",
        "import spacy\n",
        "import re\n",
        "import torch\n",
        "import torch.nn as nn\n",
        "\n",
        "from matplotlib import pyplot as plt\n",
        "from nltk.corpus import stopwords\n",
        "from nltk import tokenize\n",
        "from wordcloud import WordCloud, STOPWORDS\n",
        "from functools import reduce\n",
        "from sklearn.feature_extraction.text import CountVectorizer, TfidfVectorizer\n",
        "from sklearn.model_selection import train_test_split, StratifiedKFold, TimeSeriesSplit\n",
        "from sklearn.pipeline import Pipeline\n",
        "from sklearn.linear_model import LogisticRegression\n",
        "from sklearn.metrics import roc_auc_score\n",
        "from sklearn.preprocessing import StandardScaler\n",
        "from sklearn.multioutput import MultiOutputClassifier\n",
        "from tqdm import tqdm\n",
        "from torchtext.data.utils import get_tokenizer\n",
        "from torchtext.vocab import build_vocab_from_iterator\n",
        "from copy import deepcopy\n",
        "\n",
        "%matplotlib inline"
      ]
    },
    {
      "cell_type": "code",
      "source": [
        "df = pd.read_csv(\"/content/final_train.csv\")\n",
        "df_test = pd.read_csv(\"/content/final_test.csv\")\n",
        "\n",
        "import re\n",
        "df['comment_text_clean'] = df['comment_text'].apply(lambda x: re.sub(r'\\n', '', x))\n",
        "df['comment_text_clean'] = df['comment_text_clean'].apply(lambda x: re.sub(r'[^\\w\\s]','',x))\n",
        "df['comment_text_clean'] = df['comment_text_clean'].apply(str.lower)\n",
        "\n",
        "df_test['comment_text_clean'] = df_test['comment_text'].apply(lambda x: re.sub(r'\\n', '', x))\n",
        "df_test['comment_text_clean'] = df_test['comment_text_clean'].apply(lambda x: re.sub(r'[^\\w\\s]','',x))\n",
        "df_test['comment_text_clean'] = df_test['comment_text_clean'].apply(str.lower)\n",
        "\n"
      ],
      "metadata": {
        "id": "j_-kVcoxgfbH"
      },
      "execution_count": 2,
      "outputs": []
    },
    {
      "cell_type": "markdown",
      "source": [
        "# **tune hyperparameters**\n",
        "\n",
        "**Based on the results from previous session we can see CountVectorizer works better than others algorithms**"
      ],
      "metadata": {
        "id": "Woqk0TTCvVYq"
      }
    },
    {
      "cell_type": "code",
      "source": [
        "from sklearn.model_selection import GridSearchCV\n",
        "\n",
        "model = Pipeline([\n",
        "        (\"vectorizer\", CountVectorizer()),\n",
        "        (\"logistic_reg\", LogisticRegression(max_iter=1000))\n",
        "    ])\n",
        "\n",
        "print(model.get_params().keys())\n",
        "\n",
        "params={\n",
        "    # 'logistic_reg__penalty':[ 'l1', 'l2', 'elasticnet'],\n",
        "    'logistic_reg__C':[i for i in range(1,6,2)],\n",
        "    'logistic_reg__max_iter':[1000, 10000, 10000],\n",
        "    'vectorizer__ngram_range':[(1,1), (1,2),(2,2)]\n",
        "}\n",
        "\n",
        "grid_search = GridSearchCV(model,\n",
        "                         param_grid=params,\n",
        "                         cv=5,\n",
        "                         verbose=1, \n",
        "                         )\n",
        "\n",
        "grid_search.fit(df[\"comment_text_clean\"], df[\"toxic\"])\n",
        "\n",
        "print(grid_search.best_params_)\n",
        "print(grid_search.best_score_)"
      ],
      "metadata": {
        "colab": {
          "base_uri": "https://localhost:8080/"
        },
        "id": "6BuhcxAMvAb_",
        "outputId": "d7df473b-cbf1-4642-98c9-f78d92e5b86a"
      },
      "execution_count": 13,
      "outputs": [
        {
          "output_type": "stream",
          "name": "stdout",
          "text": [
            "dict_keys(['memory', 'steps', 'verbose', 'vectorizer', 'logistic_reg', 'vectorizer__analyzer', 'vectorizer__binary', 'vectorizer__decode_error', 'vectorizer__dtype', 'vectorizer__encoding', 'vectorizer__input', 'vectorizer__lowercase', 'vectorizer__max_df', 'vectorizer__max_features', 'vectorizer__min_df', 'vectorizer__ngram_range', 'vectorizer__preprocessor', 'vectorizer__stop_words', 'vectorizer__strip_accents', 'vectorizer__token_pattern', 'vectorizer__tokenizer', 'vectorizer__vocabulary', 'logistic_reg__C', 'logistic_reg__class_weight', 'logistic_reg__dual', 'logistic_reg__fit_intercept', 'logistic_reg__intercept_scaling', 'logistic_reg__l1_ratio', 'logistic_reg__max_iter', 'logistic_reg__multi_class', 'logistic_reg__n_jobs', 'logistic_reg__penalty', 'logistic_reg__random_state', 'logistic_reg__solver', 'logistic_reg__tol', 'logistic_reg__verbose', 'logistic_reg__warm_start'])\n",
            "Fitting 5 folds for each of 27 candidates, totalling 135 fits\n",
            "{'logistic_reg__C': 1, 'logistic_reg__max_iter': 1000, 'vectorizer__ngram_range': (1, 1)}\n",
            "0.9069134677458692\n"
          ]
        }
      ]
    },
    {
      "cell_type": "code",
      "source": [
        "model = Pipeline([\n",
        "        (\"vectorizer\", CountVectorizer(ngram_range=(1,1))),\n",
        "        (\"logistic_reg\", LogisticRegression(max_iter=1000, C=1))\n",
        "    ])\n",
        "\n",
        "model.fit(df[\"comment_text_clean\"], df[\"toxic\"])\n",
        "y_pred = model.predict_proba(df_test[\"comment_text_clean\"])[:,1]\n",
        "print(\"FINAL TESTING\")\n",
        "print(\"ROC AUC = \",roc_auc_score(df_test[\"toxic\"].values,  y_pred))"
      ],
      "metadata": {
        "colab": {
          "base_uri": "https://localhost:8080/"
        },
        "id": "RDixLBLlcljB",
        "outputId": "23a041ba-f6f9-43b3-d914-2d86fdba4353"
      },
      "execution_count": 15,
      "outputs": [
        {
          "output_type": "stream",
          "name": "stdout",
          "text": [
            "FINAL TESTING\n",
            "ROC AUC =  0.9399833060280476\n"
          ]
        }
      ]
    },
    {
      "cell_type": "markdown",
      "source": [
        "Hyperparamets didn't change, so the average voting in an ensemble is better than individual model "
      ],
      "metadata": {
        "id": "9dOXUmn2wrHv"
      }
    },
    {
      "cell_type": "markdown",
      "source": [
        "#**RNN**"
      ],
      "metadata": {
        "id": "6AEFoN3ZzMCC"
      }
    },
    {
      "cell_type": "code",
      "source": [
        "torch.manual_seed(42)\n",
        "torch.backends.cuda.deterministic = True"
      ],
      "metadata": {
        "id": "biHcdbjDzKsT"
      },
      "execution_count": 14,
      "outputs": []
    },
    {
      "cell_type": "code",
      "source": [
        "class UniversalRNN(nn.Module):\n",
        "    \n",
        "    def __init__(\n",
        "        self,\n",
        "        num_embeddings,\n",
        "        out_channels,\n",
        "        rnn_channels=512,\n",
        "        rnn_type=nn.GRU,\n",
        "        n_rnns=1,\n",
        "        bidirectional=True,\n",
        "        average_type=None\n",
        "    ):\n",
        "        super().__init__()\n",
        "        \n",
        "        self.embedding_layer = nn.Embedding(num_embeddings, rnn_channels)\n",
        "        # TODO: What is bidirectional ? Try unidirectional\n",
        "        self.rnns = rnn_type(\n",
        "            rnn_channels, \n",
        "            rnn_channels, \n",
        "            bidirectional=bidirectional, \n",
        "            num_layers=n_rnns,\n",
        "            batch_first=True\n",
        "        )\n",
        "        if not (average_type is None or average_type in [\"mean\", \"last\"]):\n",
        "            raise ValueError(f\"{average_type} is nit supported average_type\")\n",
        "        self.average_type = average_type\n",
        "        self.classifier = nn.Linear(\n",
        "            rnn_channels * 2 if bidirectional else rnn_channels, \n",
        "            out_channels, \n",
        "        )\n",
        "        \n",
        "    def forward(self, x):\n",
        "        x = self.embedding_layer(x)\n",
        "        x = self.rnns(x)[0]\n",
        "        if self.average_type is None:\n",
        "            x = self.classifier(x)\n",
        "        else:\n",
        "            # Dimension reminder : [Batch, Time Dimension, Channels]\n",
        "            if self.average_type == \"mean\":\n",
        "                x = x.mean(1)\n",
        "            elif self.average_type == \"last\":\n",
        "                x = x[:,-1,:]\n",
        "            x = self.classifier(x)\n",
        "        return x"
      ],
      "metadata": {
        "id": "j19FJO81zWZw"
      },
      "execution_count": null,
      "outputs": []
    },
    {
      "cell_type": "code",
      "source": [
        "class TextDataset(torch.utils.data.Dataset):\n",
        "    def __init__(\n",
        "        self,\n",
        "        texts,\n",
        "        targets,\n",
        "        dataset_vocab,\n",
        "        dataset_tokenizer,\n",
        "        max_length,\n",
        "        trim_policy=\"random\"\n",
        "    ):\n",
        "        self.targets = targets\n",
        "        self.texts = texts\n",
        "        self.vocab = dataset_vocab\n",
        "        self.tokenizer = dataset_tokenizer\n",
        "        \n",
        "        self.max_length = max_length\n",
        "        if trim_policy not in [\"random\", \"first\"]:\n",
        "            raise ValueError(f\"{trim_policy} is not valid trim_policy\")\n",
        "        self.trim_policy = trim_policy\n",
        "        \n",
        "    # TODO: Is it a best solution? Read about collate_fn - https://pytorch.org/docs/stable/data.html\n",
        "    def select_text_subsequance(self, input):\n",
        "        if len(input) < self.max_length:\n",
        "            return input + [0] * (self.max_length - len(input))\n",
        "        elif len(input) > self.max_length:\n",
        "            if self.trim_policy == \"random\":\n",
        "                start = np.random.randint(0, len(input) - self.max_length)\n",
        "            elif self.trim_policy == \"first\":\n",
        "                start = 0\n",
        "            return input[start : start + self.max_length]\n",
        "        else: \n",
        "            return input\n",
        "        \n",
        "    def __getitem__(self, idx):\n",
        "        text_ids = self.vocab(self.tokenizer(self.texts[idx]))\n",
        "        # In order to form batch, which is a tensor - we have to get sequnces of same length\n",
        "        text_ids = self.select_text_subsequance(text_ids)\n",
        "        return (\n",
        "            torch.LongTensor(text_ids), \n",
        "            torch.from_numpy(self.targets[idx]).float()\n",
        "        )\n",
        "    \n",
        "    def __len__(self):\n",
        "        return len(self.texts)"
      ],
      "metadata": {
        "id": "UMgadC0azhvV"
      },
      "execution_count": null,
      "outputs": []
    },
    {
      "cell_type": "code",
      "source": [
        "tokenizer = get_tokenizer('basic_english')\n",
        "def yield_tokens(data_iter):\n",
        "    for text in data_iter:\n",
        "        yield tokenizer(text)\n",
        "\n",
        "vocab = build_vocab_from_iterator(\n",
        "    yield_tokens(df[\"comment_text_clean\"]), \n",
        "    specials=[\"<unk>\"]\n",
        ")\n",
        "vocab.set_default_index(vocab[\"<unk>\"])"
      ],
      "metadata": {
        "id": "q-y0s15z32yb"
      },
      "execution_count": null,
      "outputs": []
    },
    {
      "cell_type": "code",
      "source": [
        "criteria = [col for col in df.columns[3:-2]]\n",
        "print(criteria)"
      ],
      "metadata": {
        "id": "H39B8yNOz7sk"
      },
      "execution_count": null,
      "outputs": []
    },
    {
      "cell_type": "code",
      "source": [
        "df[\"strat_feature\"] = df[criteria].apply(\n",
        "    lambda x: reduce(lambda x, y: str(x) + str(y), x), axis=1\n",
        ")"
      ],
      "metadata": {
        "id": "G_kaoqIQ3H3B"
      },
      "execution_count": null,
      "outputs": []
    },
    {
      "cell_type": "code",
      "source": [
        "small_strat_groups = df[\"strat_feature\"].value_counts()[\n",
        "    # Why do I have 5 here ? \n",
        "    df[\"strat_feature\"].value_counts() < 5\n",
        "].index\n",
        "df.loc[df[\"strat_feature\"].isin(small_strat_groups), \"strat_feature\"] = \"-1\"\n",
        "# df[\"strat_feature\"].value_counts()"
      ],
      "metadata": {
        "id": "_hMJ_nKN6vL4"
      },
      "execution_count": null,
      "outputs": []
    },
    {
      "cell_type": "code",
      "source": [
        "# skf = StratifiedKFold(n_splits=2, random_state=42, shuffle=True)\n",
        "# folds_train_test_ids = [el for el in skf.split(df, df[\"toxic\"])]"
      ],
      "metadata": {
        "id": "5QgkzlqTg0Nt"
      },
      "execution_count": null,
      "outputs": []
    },
    {
      "cell_type": "code",
      "source": [
        "skf = StratifiedKFold(n_splits=5, random_state=42, shuffle=True)\n",
        "folds_train_test_ids = [el for el in skf.split(df, df[\"strat_feature\"])]"
      ],
      "metadata": {
        "id": "NUxDiDX_9Xg9"
      },
      "execution_count": null,
      "outputs": []
    },
    {
      "cell_type": "code",
      "source": [
        "df.iloc[folds_train_test_ids[0][1]][\"comment_text_clean\"].to_list()"
      ],
      "metadata": {
        "id": "pkrUM30TE_lI"
      },
      "execution_count": null,
      "outputs": []
    },
    {
      "cell_type": "code",
      "source": [
        "nn_model = UniversalRNN(\n",
        "    num_embeddings=len(vocab),\n",
        "    out_channels=len(criteria),\n",
        "    average_type=\"mean\"\n",
        ").to(\"cuda\")\n",
        "\n",
        "criterion = torch.nn.BCEWithLogitsLoss(reduction=\"none\")\n",
        "# TODO: Read more about Optimizers https://pytorch.org/docs/stable/optim.html\n",
        "# TODO: Try to tune hyperparameters here\n",
        "optimizer = torch.optim.Adam(nn_model.parameters(), lr=0.001)\n",
        "# TODO: Read more about schedulers https://pytorch.org/docs/stable/optim.html#how-to-adjust-learning-rate\n",
        "scheduler = torch.optim.lr_scheduler.ReduceLROnPlateau(optimizer, patience=1, factor=0.5, min_lr=1e-7, mode=\"max\", verbose=True)"
      ],
      "metadata": {
        "id": "fQjkw3uc-2wc"
      },
      "execution_count": null,
      "outputs": []
    },
    {
      "cell_type": "code",
      "source": [
        "def torch_loop(\n",
        "    dataloader, \n",
        "    inp_model,\n",
        "    inp_optimizer,\n",
        "    inp_criterion,\n",
        "    mode=\"train\",\n",
        "    device=\"cpu\"\n",
        "):\n",
        "    # TODO: Read about train and eval modes on official Torch Docs. What do they change ?\n",
        "    if mode == \"train\":\n",
        "        inp_model.train()\n",
        "    else:\n",
        "        inp_model.eval()\n",
        "    all_predicted_label = []\n",
        "    all_losses = []\n",
        "    all_targets = []\n",
        "    # We need this context in order to control gradient computation\n",
        "    # mode == True - gradient will NOT be computed, mode == False - gradient will be computed\n",
        "    with torch.inference_mode(mode=(mode != \"train\")):\n",
        "        for text, label in tqdm(dataloader):\n",
        "            text, label = text.to(device), label.to(device)\n",
        "            if mode == \"train\":\n",
        "                inp_optimizer.zero_grad()\n",
        "            # 1.1 Compute Forward path\n",
        "            predicted_label = inp_model(text)\n",
        "            # 1.2 Compute Cost function (part of Forward path)\n",
        "            loss = criterion(predicted_label, label)\n",
        "            if mode == \"train\":\n",
        "                # TODO: Is mean a best choice ?\n",
        "                # 2. Compute Backward path\n",
        "                loss.mean().backward()\n",
        "                # TODO: Try gradient clipping \n",
        "                # torch.nn.utils.clip_grad_norm_(model.parameters(), 0.1)\n",
        "                # 3. Apply gradient descent `on steroids` \n",
        "                optimizer.step()\n",
        "                \n",
        "            # Accumulate stats\n",
        "            # We receive logits and we have to transform them into `probs`. That is why sigmoid is used\n",
        "            all_predicted_label.append(torch.sigmoid(predicted_label.detach()).cpu().numpy())\n",
        "            all_losses.append(loss.detach().cpu().numpy())\n",
        "            all_targets.append(label.detach().cpu().numpy())\n",
        "    all_predicted_label = np.concatenate(all_predicted_label)\n",
        "    all_losses = np.concatenate(all_losses)\n",
        "    all_targets = np.concatenate(all_targets)\n",
        "    \n",
        "    return all_predicted_label, all_losses, all_targets\n",
        "\n",
        "def print_losses(input):\n",
        "    # for cls_idx, cls_name in enumerate(criteria):\n",
        "    #     print(f\"{tgt_col} BCE loss: {input[:,cls_idx].mean()}\")\n",
        "    print(f\"Result BCE loss: {input.mean()}\")"
      ],
      "metadata": {
        "id": "jfs8CdPI-ukL"
      },
      "execution_count": null,
      "outputs": []
    },
    {
      "cell_type": "code",
      "source": [
        "def comp_metric(y_true, y_pred, verbose=True):\n",
        "    assert y_true.shape == y_pred.shape\n",
        "    class_roc_aucs = [roc_auc_score(y_true[:,i], y_pred[:,i]) for i in range(y_pred.shape[1])]\n",
        "    if verbose:\n",
        "        # for ra, tgt_col in zip(class_roc_aucs, criteria):\n",
        "        #     print(f\"{tgt_col} Roc Auc: {ra}\")\n",
        "        print(f\"Result Roc Auc: {np.mean(class_roc_aucs)}\")\n",
        "    return class_roc_aucs, np.mean(class_roc_aucs)"
      ],
      "metadata": {
        "id": "hpnxtgNgUfHG"
      },
      "execution_count": null,
      "outputs": []
    },
    {
      "cell_type": "markdown",
      "source": [
        "# **Cross Validation for RNN**"
      ],
      "metadata": {
        "id": "OTOsY4Z2joaw"
      }
    },
    {
      "cell_type": "code",
      "source": [
        "n_epochs = 3\n",
        "\n",
        "all_train_preds = []\n",
        "all_test_preds = []\n",
        "all_train_targets = []\n",
        "all_test_targets = [] \n",
        "\n",
        "\n",
        "for fold_id, (train_ids, test_ids) in enumerate(folds_train_test_ids):\n",
        "  \n",
        "  print(f'\\n--- FOLD {fold_id} ----')\n",
        "\n",
        "  train_torch_dataset = TextDataset(\n",
        "      # texts=df.iloc[folds_train_test_ids[train_ids][0]][\"comment_text_clean\"].to_list(),\n",
        "      texts=df[\"comment_text_clean\"].iloc[train_ids].to_list(),\n",
        "\n",
        "      targets=df[criteria].iloc[train_ids].values,\n",
        "      dataset_vocab=vocab,\n",
        "      dataset_tokenizer=tokenizer,\n",
        "      max_length=300,\n",
        "  )\n",
        "  train_torch_dataloader = torch.utils.data.DataLoader(\n",
        "      train_torch_dataset,\n",
        "      batch_size=32,\n",
        "      shuffle=True,\n",
        "      drop_last=True,\n",
        "      num_workers=8,\n",
        "      pin_memory=True\n",
        "  )\n",
        "\n",
        "  valid_torch_dataset = TextDataset(\n",
        "      texts=df[\"comment_text_clean\"].iloc[test_ids].to_list(),\n",
        "      targets=df[criteria].iloc[test_ids].values,\n",
        "      dataset_vocab=vocab,\n",
        "      dataset_tokenizer=tokenizer,\n",
        "      max_length=300,\n",
        "      trim_policy=\"first\"\n",
        "  )\n",
        "  valid_torch_dataloader = torch.utils.data.DataLoader(\n",
        "      valid_torch_dataset,\n",
        "      batch_size=32,\n",
        "      shuffle=False,\n",
        "      drop_last=False,\n",
        "      num_workers=8,\n",
        "      pin_memory=True\n",
        "  )\n",
        "\n",
        " \n",
        "    \n",
        "            \n",
        "  train_all_epoch_labels = []\n",
        "  train_all_epoch_losses = []\n",
        "  train_all_epoch_targets = []\n",
        "  valid_all_epoch_labels = []\n",
        "  valid_all_epoch_losses = []\n",
        "  valid_all_epoch_targets = []\n",
        "  valid_roc_aucs = []\n",
        "  train_roc_aucs = []\n",
        "\n",
        "  best_metric = - np.inf\n",
        "  best_model_state_dict = None\n",
        "\n",
        "  for epoch in range(1, n_epochs + 1):\n",
        "      print(f\"Starting Epoch {epoch}\")\n",
        "      # 1.1 Iterate over all train dataset and update model weights\n",
        "      print(\"Train phase\")\n",
        "      train_epoch_labels, train_epoch_losses, train_epoch_targets = torch_loop(\n",
        "          dataloader=train_torch_dataloader, \n",
        "          inp_model=nn_model,\n",
        "          inp_optimizer=optimizer,\n",
        "          inp_criterion=criterion,\n",
        "          device=\"cuda\",\n",
        "          mode=\"train\"\n",
        "      )\n",
        "      # 1.2 Compute and print train metrics\n",
        "      print(\"Train metrics\")\n",
        "      _, train_roc_auc = comp_metric(\n",
        "          train_epoch_targets, \n",
        "          train_epoch_labels\n",
        "      )\n",
        "      print(\"Train BCE losses\")\n",
        "      print_losses(train_epoch_losses)\n",
        "      # 2.1 Iterate over all valid dataset and compute predictions\n",
        "      print(\"Valid phase\")\n",
        "      valid_epoch_labels, valid_epoch_losses, valid_epoch_targets = torch_loop(\n",
        "          dataloader=valid_torch_dataloader, \n",
        "          inp_model=nn_model,\n",
        "          inp_optimizer=optimizer,\n",
        "          inp_criterion=criterion,\n",
        "          device=\"cuda\",\n",
        "          mode=\"eval\"\n",
        "      )\n",
        "      # 2.2 Compute and print valid metrics\n",
        "      print(\"Valid metrics\")\n",
        "      _, valid_roc_auc = comp_metric(\n",
        "          valid_epoch_targets, \n",
        "          valid_epoch_labels\n",
        "      )\n",
        "      print(\"Valid BCE losses\")\n",
        "      print_losses(valid_epoch_losses)\n",
        "      # 3. Update learning rate (if needed)\n",
        "      scheduler.step(valid_roc_auc)\n",
        "      # 4. Save best model\n",
        "      if valid_roc_auc > best_metric:\n",
        "          best_metric = valid_roc_auc\n",
        "          best_model_state_dict = deepcopy(nn_model.state_dict())\n",
        "          torch.save(nn_model, f'model{epoch}.pth')\n",
        "\n",
        "      # 5. Accumulate all stats  \n",
        "      train_all_epoch_labels.append(train_epoch_labels)\n",
        "      train_all_epoch_losses.append(train_epoch_losses)\n",
        "      train_all_epoch_targets.append(train_epoch_targets)\n",
        "      valid_all_epoch_labels.append(valid_epoch_labels)\n",
        "      valid_all_epoch_losses.append(valid_epoch_losses)\n",
        "      valid_all_epoch_targets.append(valid_epoch_targets)\n",
        "      valid_roc_aucs.append(valid_roc_auc)\n",
        "      train_roc_aucs.append(train_roc_auc)\n",
        "\n",
        "  all_train_preds.append(train_all_epoch_labels[-1])\n",
        "  all_test_preds.append(valid_all_epoch_labels[-1])\n",
        "  all_train_targets.append(train_all_epoch_targets[-1])\n",
        "  all_test_targets.append(valid_all_epoch_targets[-1])   \n",
        "\n",
        "\n",
        "all_train_preds=np.concatenate(all_train_preds)\n",
        "all_test_preds=np.concatenate(all_test_preds)\n",
        "all_train_targets=np.concatenate(all_train_targets)\n",
        "all_test_targets=np.concatenate(all_test_targets)\n",
        "\n",
        "print()\n",
        "# print(len(all_train_preds[0]), len(all_test_preds[0]))\n",
        "print(f\"OOF Valid Score: {comp_metric(all_test_targets, all_test_preds)}\")\n",
        "print(f\"OOF Train Score: {comp_metric(all_train_targets, all_train_preds)}\")"
      ],
      "metadata": {
        "colab": {
          "base_uri": "https://localhost:8080/"
        },
        "id": "uyNwGUCILQ_w",
        "outputId": "ed388172-fa6d-481f-9e53-b64c12231e22"
      },
      "execution_count": null,
      "outputs": [
        {
          "output_type": "stream",
          "name": "stderr",
          "text": [
            "/usr/local/lib/python3.8/dist-packages/torch/utils/data/dataloader.py:554: UserWarning: This DataLoader will create 8 worker processes in total. Our suggested max number of worker in current system is 2, which is smaller than what this DataLoader is going to create. Please be aware that excessive worker creation might get DataLoader running slow or even freeze, lower the worker number to avoid potential slowness/freeze if necessary.\n",
            "  warnings.warn(_create_warning_msg(\n"
          ]
        },
        {
          "output_type": "stream",
          "name": "stdout",
          "text": [
            "\n",
            "--- FOLD 0 ----\n",
            "Starting Epoch 1\n",
            "Train phase\n"
          ]
        },
        {
          "output_type": "stream",
          "name": "stderr",
          "text": [
            "100%|██████████| 521/521 [00:46<00:00, 11.18it/s]\n"
          ]
        },
        {
          "output_type": "stream",
          "name": "stdout",
          "text": [
            "Train metrics\n",
            "Result Roc Auc: 0.8822944328124775\n",
            "Train BCE losses\n",
            "Result BCE loss: 0.20029960572719574\n",
            "Valid phase\n"
          ]
        },
        {
          "output_type": "stream",
          "name": "stderr",
          "text": [
            "\r  0%|          | 0/131 [00:00<?, ?it/s]/usr/local/lib/python3.8/dist-packages/torch/utils/data/dataloader.py:554: UserWarning: This DataLoader will create 8 worker processes in total. Our suggested max number of worker in current system is 2, which is smaller than what this DataLoader is going to create. Please be aware that excessive worker creation might get DataLoader running slow or even freeze, lower the worker number to avoid potential slowness/freeze if necessary.\n",
            "  warnings.warn(_create_warning_msg(\n",
            "100%|██████████| 131/131 [00:04<00:00, 30.67it/s]\n"
          ]
        },
        {
          "output_type": "stream",
          "name": "stdout",
          "text": [
            "Valid metrics\n",
            "Result Roc Auc: 0.9447054498206459\n",
            "Valid BCE losses\n",
            "Result BCE loss: 0.15239743888378143\n",
            "Starting Epoch 2\n",
            "Train phase\n"
          ]
        },
        {
          "output_type": "stream",
          "name": "stderr",
          "text": [
            "\r  0%|          | 0/521 [00:00<?, ?it/s]/usr/local/lib/python3.8/dist-packages/torch/utils/data/dataloader.py:554: UserWarning: This DataLoader will create 8 worker processes in total. Our suggested max number of worker in current system is 2, which is smaller than what this DataLoader is going to create. Please be aware that excessive worker creation might get DataLoader running slow or even freeze, lower the worker number to avoid potential slowness/freeze if necessary.\n",
            "  warnings.warn(_create_warning_msg(\n",
            "100%|██████████| 521/521 [00:46<00:00, 11.15it/s]\n"
          ]
        },
        {
          "output_type": "stream",
          "name": "stdout",
          "text": [
            "Train metrics\n",
            "Result Roc Auc: 0.9630537905863832\n",
            "Train BCE losses\n",
            "Result BCE loss: 0.11804868280887604\n",
            "Valid phase\n"
          ]
        },
        {
          "output_type": "stream",
          "name": "stderr",
          "text": [
            "\r  0%|          | 0/131 [00:00<?, ?it/s]/usr/local/lib/python3.8/dist-packages/torch/utils/data/dataloader.py:554: UserWarning: This DataLoader will create 8 worker processes in total. Our suggested max number of worker in current system is 2, which is smaller than what this DataLoader is going to create. Please be aware that excessive worker creation might get DataLoader running slow or even freeze, lower the worker number to avoid potential slowness/freeze if necessary.\n",
            "  warnings.warn(_create_warning_msg(\n",
            "100%|██████████| 131/131 [00:04<00:00, 30.64it/s]\n"
          ]
        },
        {
          "output_type": "stream",
          "name": "stdout",
          "text": [
            "Valid metrics\n",
            "Result Roc Auc: 0.9579179273170411\n",
            "Valid BCE losses\n",
            "Result BCE loss: 0.14365479350090027\n",
            "Starting Epoch 3\n",
            "Train phase\n"
          ]
        },
        {
          "output_type": "stream",
          "name": "stderr",
          "text": [
            "\r  0%|          | 0/521 [00:00<?, ?it/s]/usr/local/lib/python3.8/dist-packages/torch/utils/data/dataloader.py:554: UserWarning: This DataLoader will create 8 worker processes in total. Our suggested max number of worker in current system is 2, which is smaller than what this DataLoader is going to create. Please be aware that excessive worker creation might get DataLoader running slow or even freeze, lower the worker number to avoid potential slowness/freeze if necessary.\n",
            "  warnings.warn(_create_warning_msg(\n",
            "100%|██████████| 521/521 [00:46<00:00, 11.31it/s]\n"
          ]
        },
        {
          "output_type": "stream",
          "name": "stdout",
          "text": [
            "Train metrics\n",
            "Result Roc Auc: 0.9859211062841615\n",
            "Train BCE losses\n",
            "Result BCE loss: 0.07333429902791977\n",
            "Valid phase\n"
          ]
        },
        {
          "output_type": "stream",
          "name": "stderr",
          "text": [
            "\r  0%|          | 0/131 [00:00<?, ?it/s]/usr/local/lib/python3.8/dist-packages/torch/utils/data/dataloader.py:554: UserWarning: This DataLoader will create 8 worker processes in total. Our suggested max number of worker in current system is 2, which is smaller than what this DataLoader is going to create. Please be aware that excessive worker creation might get DataLoader running slow or even freeze, lower the worker number to avoid potential slowness/freeze if necessary.\n",
            "  warnings.warn(_create_warning_msg(\n",
            "100%|██████████| 131/131 [00:04<00:00, 29.23it/s]\n"
          ]
        },
        {
          "output_type": "stream",
          "name": "stdout",
          "text": [
            "Valid metrics\n",
            "Result Roc Auc: 0.9593331647554415\n",
            "Valid BCE losses\n",
            "Result BCE loss: 0.16927075386047363\n"
          ]
        },
        {
          "output_type": "stream",
          "name": "stderr",
          "text": [
            "/usr/local/lib/python3.8/dist-packages/torch/utils/data/dataloader.py:554: UserWarning: This DataLoader will create 8 worker processes in total. Our suggested max number of worker in current system is 2, which is smaller than what this DataLoader is going to create. Please be aware that excessive worker creation might get DataLoader running slow or even freeze, lower the worker number to avoid potential slowness/freeze if necessary.\n",
            "  warnings.warn(_create_warning_msg(\n"
          ]
        },
        {
          "output_type": "stream",
          "name": "stdout",
          "text": [
            "\n",
            "--- FOLD 1 ----\n",
            "Starting Epoch 1\n",
            "Train phase\n"
          ]
        },
        {
          "output_type": "stream",
          "name": "stderr",
          "text": [
            "100%|██████████| 521/521 [00:46<00:00, 11.23it/s]\n"
          ]
        },
        {
          "output_type": "stream",
          "name": "stdout",
          "text": [
            "Train metrics\n",
            "Result Roc Auc: 0.9850790625785949\n",
            "Train BCE losses\n",
            "Result BCE loss: 0.07944446057081223\n",
            "Valid phase\n"
          ]
        },
        {
          "output_type": "stream",
          "name": "stderr",
          "text": [
            "\r  0%|          | 0/131 [00:00<?, ?it/s]/usr/local/lib/python3.8/dist-packages/torch/utils/data/dataloader.py:554: UserWarning: This DataLoader will create 8 worker processes in total. Our suggested max number of worker in current system is 2, which is smaller than what this DataLoader is going to create. Please be aware that excessive worker creation might get DataLoader running slow or even freeze, lower the worker number to avoid potential slowness/freeze if necessary.\n",
            "  warnings.warn(_create_warning_msg(\n",
            "100%|██████████| 131/131 [00:04<00:00, 28.81it/s]\n"
          ]
        },
        {
          "output_type": "stream",
          "name": "stdout",
          "text": [
            "Valid metrics\n",
            "Result Roc Auc: 0.9943070828996448\n",
            "Valid BCE losses\n",
            "Result BCE loss: 0.05972656235098839\n",
            "Starting Epoch 2\n",
            "Train phase\n"
          ]
        },
        {
          "output_type": "stream",
          "name": "stderr",
          "text": [
            "\r  0%|          | 0/521 [00:00<?, ?it/s]/usr/local/lib/python3.8/dist-packages/torch/utils/data/dataloader.py:554: UserWarning: This DataLoader will create 8 worker processes in total. Our suggested max number of worker in current system is 2, which is smaller than what this DataLoader is going to create. Please be aware that excessive worker creation might get DataLoader running slow or even freeze, lower the worker number to avoid potential slowness/freeze if necessary.\n",
            "  warnings.warn(_create_warning_msg(\n",
            "100%|██████████| 521/521 [00:46<00:00, 11.25it/s]\n"
          ]
        },
        {
          "output_type": "stream",
          "name": "stdout",
          "text": [
            "Train metrics\n",
            "Result Roc Auc: 0.9968749746259693\n",
            "Train BCE losses\n",
            "Result BCE loss: 0.03533884137868881\n",
            "Valid phase\n"
          ]
        },
        {
          "output_type": "stream",
          "name": "stderr",
          "text": [
            "\r  0%|          | 0/131 [00:00<?, ?it/s]/usr/local/lib/python3.8/dist-packages/torch/utils/data/dataloader.py:554: UserWarning: This DataLoader will create 8 worker processes in total. Our suggested max number of worker in current system is 2, which is smaller than what this DataLoader is going to create. Please be aware that excessive worker creation might get DataLoader running slow or even freeze, lower the worker number to avoid potential slowness/freeze if necessary.\n",
            "  warnings.warn(_create_warning_msg(\n",
            "100%|██████████| 131/131 [00:04<00:00, 28.16it/s]\n"
          ]
        },
        {
          "output_type": "stream",
          "name": "stdout",
          "text": [
            "Valid metrics\n",
            "Result Roc Auc: 0.9941610680175359\n",
            "Valid BCE losses\n",
            "Result BCE loss: 0.05417603254318237\n",
            "Starting Epoch 3\n",
            "Train phase\n"
          ]
        },
        {
          "output_type": "stream",
          "name": "stderr",
          "text": [
            "\r  0%|          | 0/521 [00:00<?, ?it/s]/usr/local/lib/python3.8/dist-packages/torch/utils/data/dataloader.py:554: UserWarning: This DataLoader will create 8 worker processes in total. Our suggested max number of worker in current system is 2, which is smaller than what this DataLoader is going to create. Please be aware that excessive worker creation might get DataLoader running slow or even freeze, lower the worker number to avoid potential slowness/freeze if necessary.\n",
            "  warnings.warn(_create_warning_msg(\n",
            "100%|██████████| 521/521 [00:46<00:00, 11.21it/s]\n"
          ]
        },
        {
          "output_type": "stream",
          "name": "stdout",
          "text": [
            "Train metrics\n",
            "Result Roc Auc: 0.9990602826726885\n",
            "Train BCE losses\n",
            "Result BCE loss: 0.016996506601572037\n",
            "Valid phase\n"
          ]
        },
        {
          "output_type": "stream",
          "name": "stderr",
          "text": [
            "\r  0%|          | 0/131 [00:00<?, ?it/s]/usr/local/lib/python3.8/dist-packages/torch/utils/data/dataloader.py:554: UserWarning: This DataLoader will create 8 worker processes in total. Our suggested max number of worker in current system is 2, which is smaller than what this DataLoader is going to create. Please be aware that excessive worker creation might get DataLoader running slow or even freeze, lower the worker number to avoid potential slowness/freeze if necessary.\n",
            "  warnings.warn(_create_warning_msg(\n",
            "100%|██████████| 131/131 [00:04<00:00, 29.01it/s]\n",
            "/usr/local/lib/python3.8/dist-packages/torch/utils/data/dataloader.py:554: UserWarning: This DataLoader will create 8 worker processes in total. Our suggested max number of worker in current system is 2, which is smaller than what this DataLoader is going to create. Please be aware that excessive worker creation might get DataLoader running slow or even freeze, lower the worker number to avoid potential slowness/freeze if necessary.\n",
            "  warnings.warn(_create_warning_msg(\n"
          ]
        },
        {
          "output_type": "stream",
          "name": "stdout",
          "text": [
            "Valid metrics\n",
            "Result Roc Auc: 0.993703673058245\n",
            "Valid BCE losses\n",
            "Result BCE loss: 0.06124541535973549\n",
            "Epoch 00006: reducing learning rate of group 0 to 5.0000e-04.\n",
            "\n",
            "--- FOLD 2 ----\n",
            "Starting Epoch 1\n",
            "Train phase\n"
          ]
        },
        {
          "output_type": "stream",
          "name": "stderr",
          "text": [
            "100%|██████████| 521/521 [00:46<00:00, 11.25it/s]\n"
          ]
        },
        {
          "output_type": "stream",
          "name": "stdout",
          "text": [
            "Train metrics\n",
            "Result Roc Auc: 0.9987721974936233\n",
            "Train BCE losses\n",
            "Result BCE loss: 0.020664410665631294\n",
            "Valid phase\n"
          ]
        },
        {
          "output_type": "stream",
          "name": "stderr",
          "text": [
            "\r  0%|          | 0/131 [00:00<?, ?it/s]/usr/local/lib/python3.8/dist-packages/torch/utils/data/dataloader.py:554: UserWarning: This DataLoader will create 8 worker processes in total. Our suggested max number of worker in current system is 2, which is smaller than what this DataLoader is going to create. Please be aware that excessive worker creation might get DataLoader running slow or even freeze, lower the worker number to avoid potential slowness/freeze if necessary.\n",
            "  warnings.warn(_create_warning_msg(\n",
            "100%|██████████| 131/131 [00:04<00:00, 29.09it/s]\n"
          ]
        },
        {
          "output_type": "stream",
          "name": "stdout",
          "text": [
            "Valid metrics\n",
            "Result Roc Auc: 0.9997489540329063\n",
            "Valid BCE losses\n",
            "Result BCE loss: 0.010737734846770763\n",
            "Starting Epoch 2\n",
            "Train phase\n"
          ]
        },
        {
          "output_type": "stream",
          "name": "stderr",
          "text": [
            "\r  0%|          | 0/521 [00:00<?, ?it/s]/usr/local/lib/python3.8/dist-packages/torch/utils/data/dataloader.py:554: UserWarning: This DataLoader will create 8 worker processes in total. Our suggested max number of worker in current system is 2, which is smaller than what this DataLoader is going to create. Please be aware that excessive worker creation might get DataLoader running slow or even freeze, lower the worker number to avoid potential slowness/freeze if necessary.\n",
            "  warnings.warn(_create_warning_msg(\n",
            "100%|██████████| 521/521 [00:46<00:00, 11.16it/s]\n"
          ]
        },
        {
          "output_type": "stream",
          "name": "stdout",
          "text": [
            "Train metrics\n",
            "Result Roc Auc: 0.9998695729857792\n",
            "Train BCE losses\n",
            "Result BCE loss: 0.006786600686609745\n",
            "Valid phase\n"
          ]
        },
        {
          "output_type": "stream",
          "name": "stderr",
          "text": [
            "\r  0%|          | 0/131 [00:00<?, ?it/s]/usr/local/lib/python3.8/dist-packages/torch/utils/data/dataloader.py:554: UserWarning: This DataLoader will create 8 worker processes in total. Our suggested max number of worker in current system is 2, which is smaller than what this DataLoader is going to create. Please be aware that excessive worker creation might get DataLoader running slow or even freeze, lower the worker number to avoid potential slowness/freeze if necessary.\n",
            "  warnings.warn(_create_warning_msg(\n",
            "100%|██████████| 131/131 [00:04<00:00, 28.66it/s]\n"
          ]
        },
        {
          "output_type": "stream",
          "name": "stdout",
          "text": [
            "Valid metrics\n",
            "Result Roc Auc: 0.9996953199129127\n",
            "Valid BCE losses\n",
            "Result BCE loss: 0.00851848442107439\n",
            "Starting Epoch 3\n",
            "Train phase\n"
          ]
        },
        {
          "output_type": "stream",
          "name": "stderr",
          "text": [
            "\r  0%|          | 0/521 [00:00<?, ?it/s]/usr/local/lib/python3.8/dist-packages/torch/utils/data/dataloader.py:554: UserWarning: This DataLoader will create 8 worker processes in total. Our suggested max number of worker in current system is 2, which is smaller than what this DataLoader is going to create. Please be aware that excessive worker creation might get DataLoader running slow or even freeze, lower the worker number to avoid potential slowness/freeze if necessary.\n",
            "  warnings.warn(_create_warning_msg(\n",
            "100%|██████████| 521/521 [00:46<00:00, 11.24it/s]\n"
          ]
        },
        {
          "output_type": "stream",
          "name": "stdout",
          "text": [
            "Train metrics\n",
            "Result Roc Auc: 0.9999788671886037\n",
            "Train BCE losses\n",
            "Result BCE loss: 0.003409763565286994\n",
            "Valid phase\n"
          ]
        },
        {
          "output_type": "stream",
          "name": "stderr",
          "text": [
            "\r  0%|          | 0/131 [00:00<?, ?it/s]/usr/local/lib/python3.8/dist-packages/torch/utils/data/dataloader.py:554: UserWarning: This DataLoader will create 8 worker processes in total. Our suggested max number of worker in current system is 2, which is smaller than what this DataLoader is going to create. Please be aware that excessive worker creation might get DataLoader running slow or even freeze, lower the worker number to avoid potential slowness/freeze if necessary.\n",
            "  warnings.warn(_create_warning_msg(\n",
            "100%|██████████| 131/131 [00:04<00:00, 28.33it/s]\n",
            "/usr/local/lib/python3.8/dist-packages/torch/utils/data/dataloader.py:554: UserWarning: This DataLoader will create 8 worker processes in total. Our suggested max number of worker in current system is 2, which is smaller than what this DataLoader is going to create. Please be aware that excessive worker creation might get DataLoader running slow or even freeze, lower the worker number to avoid potential slowness/freeze if necessary.\n",
            "  warnings.warn(_create_warning_msg(\n"
          ]
        },
        {
          "output_type": "stream",
          "name": "stdout",
          "text": [
            "Valid metrics\n",
            "Result Roc Auc: 0.9996537909134974\n",
            "Valid BCE losses\n",
            "Result BCE loss: 0.008688394911587238\n",
            "Epoch 00009: reducing learning rate of group 0 to 2.5000e-04.\n",
            "\n",
            "--- FOLD 3 ----\n",
            "Starting Epoch 1\n",
            "Train phase\n"
          ]
        },
        {
          "output_type": "stream",
          "name": "stderr",
          "text": [
            "100%|██████████| 521/521 [00:46<00:00, 11.24it/s]\n"
          ]
        },
        {
          "output_type": "stream",
          "name": "stdout",
          "text": [
            "Train metrics\n",
            "Result Roc Auc: 0.9999148916387508\n",
            "Train BCE losses\n",
            "Result BCE loss: 0.0038018140476197004\n",
            "Valid phase\n"
          ]
        },
        {
          "output_type": "stream",
          "name": "stderr",
          "text": [
            "\r  0%|          | 0/131 [00:00<?, ?it/s]/usr/local/lib/python3.8/dist-packages/torch/utils/data/dataloader.py:554: UserWarning: This DataLoader will create 8 worker processes in total. Our suggested max number of worker in current system is 2, which is smaller than what this DataLoader is going to create. Please be aware that excessive worker creation might get DataLoader running slow or even freeze, lower the worker number to avoid potential slowness/freeze if necessary.\n",
            "  warnings.warn(_create_warning_msg(\n",
            "100%|██████████| 131/131 [00:04<00:00, 28.54it/s]\n"
          ]
        },
        {
          "output_type": "stream",
          "name": "stdout",
          "text": [
            "Valid metrics\n",
            "Result Roc Auc: 0.9999176399900558\n",
            "Valid BCE losses\n",
            "Result BCE loss: 0.003861723467707634\n",
            "Starting Epoch 2\n",
            "Train phase\n"
          ]
        },
        {
          "output_type": "stream",
          "name": "stderr",
          "text": [
            "\r  0%|          | 0/521 [00:00<?, ?it/s]/usr/local/lib/python3.8/dist-packages/torch/utils/data/dataloader.py:554: UserWarning: This DataLoader will create 8 worker processes in total. Our suggested max number of worker in current system is 2, which is smaller than what this DataLoader is going to create. Please be aware that excessive worker creation might get DataLoader running slow or even freeze, lower the worker number to avoid potential slowness/freeze if necessary.\n",
            "  warnings.warn(_create_warning_msg(\n",
            "100%|██████████| 521/521 [00:46<00:00, 11.22it/s]\n"
          ]
        },
        {
          "output_type": "stream",
          "name": "stdout",
          "text": [
            "Train metrics\n",
            "Result Roc Auc: 0.9999850185012555\n",
            "Train BCE losses\n",
            "Result BCE loss: 0.002083228901028633\n",
            "Valid phase\n"
          ]
        },
        {
          "output_type": "stream",
          "name": "stderr",
          "text": [
            "\r  0%|          | 0/131 [00:00<?, ?it/s]/usr/local/lib/python3.8/dist-packages/torch/utils/data/dataloader.py:554: UserWarning: This DataLoader will create 8 worker processes in total. Our suggested max number of worker in current system is 2, which is smaller than what this DataLoader is going to create. Please be aware that excessive worker creation might get DataLoader running slow or even freeze, lower the worker number to avoid potential slowness/freeze if necessary.\n",
            "  warnings.warn(_create_warning_msg(\n",
            "100%|██████████| 131/131 [00:04<00:00, 28.47it/s]\n"
          ]
        },
        {
          "output_type": "stream",
          "name": "stdout",
          "text": [
            "Valid metrics\n",
            "Result Roc Auc: 0.9999335386322846\n",
            "Valid BCE losses\n",
            "Result BCE loss: 0.0034261750988662243\n",
            "Starting Epoch 3\n",
            "Train phase\n"
          ]
        },
        {
          "output_type": "stream",
          "name": "stderr",
          "text": [
            "\r  0%|          | 0/521 [00:00<?, ?it/s]/usr/local/lib/python3.8/dist-packages/torch/utils/data/dataloader.py:554: UserWarning: This DataLoader will create 8 worker processes in total. Our suggested max number of worker in current system is 2, which is smaller than what this DataLoader is going to create. Please be aware that excessive worker creation might get DataLoader running slow or even freeze, lower the worker number to avoid potential slowness/freeze if necessary.\n",
            "  warnings.warn(_create_warning_msg(\n",
            "100%|██████████| 521/521 [00:46<00:00, 11.22it/s]\n"
          ]
        },
        {
          "output_type": "stream",
          "name": "stdout",
          "text": [
            "Train metrics\n",
            "Result Roc Auc: 0.9999948792100737\n",
            "Train BCE losses\n",
            "Result BCE loss: 0.0015576655277982354\n",
            "Valid phase\n"
          ]
        },
        {
          "output_type": "stream",
          "name": "stderr",
          "text": [
            "\r  0%|          | 0/131 [00:00<?, ?it/s]/usr/local/lib/python3.8/dist-packages/torch/utils/data/dataloader.py:554: UserWarning: This DataLoader will create 8 worker processes in total. Our suggested max number of worker in current system is 2, which is smaller than what this DataLoader is going to create. Please be aware that excessive worker creation might get DataLoader running slow or even freeze, lower the worker number to avoid potential slowness/freeze if necessary.\n",
            "  warnings.warn(_create_warning_msg(\n",
            "100%|██████████| 131/131 [00:04<00:00, 28.38it/s]\n"
          ]
        },
        {
          "output_type": "stream",
          "name": "stdout",
          "text": [
            "Valid metrics\n",
            "Result Roc Auc: 0.9999354672879844\n",
            "Valid BCE losses\n",
            "Result BCE loss: 0.00380890816450119\n",
            "Epoch 00012: reducing learning rate of group 0 to 1.2500e-04.\n"
          ]
        },
        {
          "output_type": "stream",
          "name": "stderr",
          "text": [
            "/usr/local/lib/python3.8/dist-packages/torch/utils/data/dataloader.py:554: UserWarning: This DataLoader will create 8 worker processes in total. Our suggested max number of worker in current system is 2, which is smaller than what this DataLoader is going to create. Please be aware that excessive worker creation might get DataLoader running slow or even freeze, lower the worker number to avoid potential slowness/freeze if necessary.\n",
            "  warnings.warn(_create_warning_msg(\n"
          ]
        },
        {
          "output_type": "stream",
          "name": "stdout",
          "text": [
            "\n",
            "--- FOLD 4 ----\n",
            "Starting Epoch 1\n",
            "Train phase\n"
          ]
        },
        {
          "output_type": "stream",
          "name": "stderr",
          "text": [
            "100%|██████████| 521/521 [00:46<00:00, 11.22it/s]\n"
          ]
        },
        {
          "output_type": "stream",
          "name": "stdout",
          "text": [
            "Train metrics\n",
            "Result Roc Auc: 0.9999845221994574\n",
            "Train BCE losses\n",
            "Result BCE loss: 0.0016289324266836047\n",
            "Valid phase\n"
          ]
        },
        {
          "output_type": "stream",
          "name": "stderr",
          "text": [
            "\r  0%|          | 0/131 [00:00<?, ?it/s]/usr/local/lib/python3.8/dist-packages/torch/utils/data/dataloader.py:554: UserWarning: This DataLoader will create 8 worker processes in total. Our suggested max number of worker in current system is 2, which is smaller than what this DataLoader is going to create. Please be aware that excessive worker creation might get DataLoader running slow or even freeze, lower the worker number to avoid potential slowness/freeze if necessary.\n",
            "  warnings.warn(_create_warning_msg(\n",
            "100%|██████████| 131/131 [00:04<00:00, 29.03it/s]\n"
          ]
        },
        {
          "output_type": "stream",
          "name": "stdout",
          "text": [
            "Valid metrics\n",
            "Result Roc Auc: 0.9999976693136409\n",
            "Valid BCE losses\n",
            "Result BCE loss: 0.0011426060227677226\n",
            "Starting Epoch 2\n",
            "Train phase\n"
          ]
        },
        {
          "output_type": "stream",
          "name": "stderr",
          "text": [
            "\r  0%|          | 0/521 [00:00<?, ?it/s]/usr/local/lib/python3.8/dist-packages/torch/utils/data/dataloader.py:554: UserWarning: This DataLoader will create 8 worker processes in total. Our suggested max number of worker in current system is 2, which is smaller than what this DataLoader is going to create. Please be aware that excessive worker creation might get DataLoader running slow or even freeze, lower the worker number to avoid potential slowness/freeze if necessary.\n",
            "  warnings.warn(_create_warning_msg(\n",
            "100%|██████████| 521/521 [00:46<00:00, 11.23it/s]\n"
          ]
        },
        {
          "output_type": "stream",
          "name": "stdout",
          "text": [
            "Train metrics\n",
            "Result Roc Auc: 0.9999913880578498\n",
            "Train BCE losses\n",
            "Result BCE loss: 0.0013641525292769074\n",
            "Valid phase\n"
          ]
        },
        {
          "output_type": "stream",
          "name": "stderr",
          "text": [
            "\r  0%|          | 0/131 [00:00<?, ?it/s]/usr/local/lib/python3.8/dist-packages/torch/utils/data/dataloader.py:554: UserWarning: This DataLoader will create 8 worker processes in total. Our suggested max number of worker in current system is 2, which is smaller than what this DataLoader is going to create. Please be aware that excessive worker creation might get DataLoader running slow or even freeze, lower the worker number to avoid potential slowness/freeze if necessary.\n",
            "  warnings.warn(_create_warning_msg(\n",
            "100%|██████████| 131/131 [00:04<00:00, 28.48it/s]\n"
          ]
        },
        {
          "output_type": "stream",
          "name": "stdout",
          "text": [
            "Valid metrics\n",
            "Result Roc Auc: 0.9999975873306127\n",
            "Valid BCE losses\n",
            "Result BCE loss: 0.0013500022469088435\n",
            "Epoch 00014: reducing learning rate of group 0 to 6.2500e-05.\n",
            "Starting Epoch 3\n",
            "Train phase\n"
          ]
        },
        {
          "output_type": "stream",
          "name": "stderr",
          "text": [
            "\r  0%|          | 0/521 [00:00<?, ?it/s]/usr/local/lib/python3.8/dist-packages/torch/utils/data/dataloader.py:554: UserWarning: This DataLoader will create 8 worker processes in total. Our suggested max number of worker in current system is 2, which is smaller than what this DataLoader is going to create. Please be aware that excessive worker creation might get DataLoader running slow or even freeze, lower the worker number to avoid potential slowness/freeze if necessary.\n",
            "  warnings.warn(_create_warning_msg(\n",
            "100%|██████████| 521/521 [00:46<00:00, 11.23it/s]\n"
          ]
        },
        {
          "output_type": "stream",
          "name": "stdout",
          "text": [
            "Train metrics\n",
            "Result Roc Auc: 0.9999847011201985\n",
            "Train BCE losses\n",
            "Result BCE loss: 0.001230661990121007\n",
            "Valid phase\n"
          ]
        },
        {
          "output_type": "stream",
          "name": "stderr",
          "text": [
            "\r  0%|          | 0/131 [00:00<?, ?it/s]/usr/local/lib/python3.8/dist-packages/torch/utils/data/dataloader.py:554: UserWarning: This DataLoader will create 8 worker processes in total. Our suggested max number of worker in current system is 2, which is smaller than what this DataLoader is going to create. Please be aware that excessive worker creation might get DataLoader running slow or even freeze, lower the worker number to avoid potential slowness/freeze if necessary.\n",
            "  warnings.warn(_create_warning_msg(\n",
            "100%|██████████| 131/131 [00:04<00:00, 28.44it/s]"
          ]
        },
        {
          "output_type": "stream",
          "name": "stdout",
          "text": [
            "Valid metrics\n",
            "Result Roc Auc: 0.9999973125246688\n",
            "Valid BCE losses\n",
            "Result BCE loss: 0.0014154314994812012\n",
            "\n",
            "Result Roc Auc: 0.995799867436682\n",
            "OOF Valid Score: ([0.9962458421546708, 0.9934036251599634, 0.9964729586841012, 0.9983774461591568, 0.9944994650255181], 0.995799867436682)\n",
            "Result Roc Auc: 0.9990191061023372\n",
            "OOF Train Score: ([0.9996156984104958, 0.9982256479594821, 0.9993448622343333, 0.9989323109923147, 0.9989770109150605], 0.9990191061023372)\n"
          ]
        },
        {
          "output_type": "stream",
          "name": "stderr",
          "text": [
            "\n"
          ]
        }
      ]
    },
    {
      "cell_type": "markdown",
      "source": [
        "**testing stage**"
      ],
      "metadata": {
        "id": "8UEEWdLA2OOc"
      }
    },
    {
      "cell_type": "code",
      "source": [
        "# nn_model.load_state_dict(best_model_state_dict)\n",
        "\n",
        "test_torch_dataset = TextDataset(\n",
        "    texts=df_test[\"comment_text_clean\"].to_list(),\n",
        "    targets=df_test[criteria].values,\n",
        "    dataset_vocab=vocab,\n",
        "    dataset_tokenizer=tokenizer,\n",
        "    max_length=300,\n",
        "    trim_policy=\"first\"\n",
        ")\n",
        "test_torch_dataloader = torch.utils.data.DataLoader(\n",
        "    test_torch_dataset,\n",
        "    batch_size=32,\n",
        "    shuffle=False,\n",
        "    drop_last=False,\n",
        "    num_workers=8,\n",
        "    pin_memory=True\n",
        ")\n",
        "\n",
        "\n",
        "models = [UniversalRNN(\n",
        "    num_embeddings=len(vocab),\n",
        "    out_channels=len(criteria),\n",
        "    average_type=\"mean\"\n",
        ").to(\"cuda\") for i in range(5)]  \n",
        "\n",
        "test_pred = []\n",
        "for i, m in enumerate(models):\n",
        "    m = (torch.load(f\"model{i+1}.pth\"))\n",
        "    test_labels, test_losses, test_targets = torch_loop(\n",
        "    dataloader=test_torch_dataloader, \n",
        "    inp_model=nn_model,\n",
        "    inp_optimizer=optimizer,\n",
        "    inp_criterion=criterion,\n",
        "    device=\"cuda\",\n",
        "    mode=\"eval\"\n",
        ")    \n",
        "    test_pred.append(test_labels)\n",
        "\n",
        "y_pred = np.stack(test_pred,axis=0).mean(0)\n",
        "print(\"\\n\\nFINAL TESTING\")\n",
        "\n",
        "comp_metric(\n",
        "    test_targets, \n",
        "    test_labels\n",
        ");\n"
      ],
      "metadata": {
        "colab": {
          "base_uri": "https://localhost:8080/"
        },
        "id": "Z6KbyFlKoupk",
        "outputId": "a084ab3a-2e0e-4ebc-d399-af509fc174dc"
      },
      "execution_count": null,
      "outputs": [
        {
          "output_type": "stream",
          "name": "stderr",
          "text": [
            "/usr/local/lib/python3.8/dist-packages/torch/utils/data/dataloader.py:554: UserWarning: This DataLoader will create 8 worker processes in total. Our suggested max number of worker in current system is 2, which is smaller than what this DataLoader is going to create. Please be aware that excessive worker creation might get DataLoader running slow or even freeze, lower the worker number to avoid potential slowness/freeze if necessary.\n",
            "  warnings.warn(_create_warning_msg(\n",
            "100%|██████████| 653/653 [00:19<00:00, 32.74it/s]\n",
            "100%|██████████| 653/653 [00:19<00:00, 33.45it/s]\n",
            "100%|██████████| 653/653 [00:20<00:00, 32.54it/s]\n",
            "100%|██████████| 653/653 [00:19<00:00, 32.82it/s]\n",
            "100%|██████████| 653/653 [00:20<00:00, 31.87it/s]"
          ]
        },
        {
          "output_type": "stream",
          "name": "stdout",
          "text": [
            "\n",
            "\n",
            "FINAL TESTING\n",
            "Result Roc Auc: 0.9596808913234585\n"
          ]
        },
        {
          "output_type": "stream",
          "name": "stderr",
          "text": [
            "\n"
          ]
        }
      ]
    },
    {
      "cell_type": "markdown",
      "source": [
        "# **Dynamic plot for stats while RNN training**"
      ],
      "metadata": {
        "id": "fIbmfc4GjWZa"
      }
    },
    {
      "cell_type": "code",
      "source": [
        "from pandas.io.formats.info import DataFrameInfo\n",
        "\n",
        "train_torch_dataset = TextDataset(\n",
        "    texts=df.iloc[folds_train_test_ids[0][0]][\"comment_text_clean\"].to_list(),\n",
        "    targets=df.iloc[folds_train_test_ids[0][0]][criteria].values,\n",
        "    dataset_vocab=vocab,\n",
        "    dataset_tokenizer=tokenizer,\n",
        "    max_length=300,\n",
        ")\n",
        "# TODO: Read more about DataLoader : https://pytorch.org/docs/stable/data.html#torch.utils.data.DataLoader\n",
        "train_torch_dataloader = torch.utils.data.DataLoader(\n",
        "    train_torch_dataset,\n",
        "    batch_size=64,\n",
        "    # It is highly important to shuffle data while training. Why ?\n",
        "    shuffle=True,\n",
        "    # It is important to drop last batch while training. Why ?\n",
        "    drop_last=True,\n",
        "    num_workers=8,\n",
        "    pin_memory=True\n",
        ")\n",
        "\n",
        "valid_torch_dataset = TextDataset(\n",
        "    texts=df.iloc[folds_train_test_ids[0][1]][\"comment_text_clean\"].to_list(),\n",
        "    targets=df.iloc[folds_train_test_ids[0][1]][criteria].values,\n",
        "    dataset_vocab=vocab,\n",
        "    dataset_tokenizer=tokenizer,\n",
        "    max_length=300,\n",
        "    trim_policy=\"first\"\n",
        ")\n",
        "valid_torch_dataloader = torch.utils.data.DataLoader(\n",
        "    valid_torch_dataset,\n",
        "    batch_size=64,\n",
        "    shuffle=False,\n",
        "    drop_last=False,\n",
        "    num_workers=8,\n",
        "    pin_memory=True\n",
        ")"
      ],
      "metadata": {
        "colab": {
          "base_uri": "https://localhost:8080/"
        },
        "id": "tFH4kTH60GiC",
        "outputId": "4cb127b9-6584-4649-c5cf-bfd7fdb86390"
      },
      "execution_count": 15,
      "outputs": [
        {
          "output_type": "stream",
          "name": "stderr",
          "text": [
            "/usr/local/lib/python3.8/dist-packages/torch/utils/data/dataloader.py:554: UserWarning: This DataLoader will create 8 worker processes in total. Our suggested max number of worker in current system is 2, which is smaller than what this DataLoader is going to create. Please be aware that excessive worker creation might get DataLoader running slow or even freeze, lower the worker number to avoid potential slowness/freeze if necessary.\n",
            "  warnings.warn(_create_warning_msg(\n"
          ]
        }
      ]
    },
    {
      "cell_type": "code",
      "source": [
        "from collections import deque\n",
        "\n",
        "n_epochs = 3\n",
        "\n",
        "train_all_epoch_labels = []\n",
        "train_all_epoch_losses = []\n",
        "train_all_epoch_targets = []\n",
        "valid_all_epoch_labels = []\n",
        "valid_all_epoch_losses = []\n",
        "valid_all_epoch_targets = []\n",
        "valid_roc_aucs = []\n",
        "train_roc_aucs = []\n",
        "\n",
        "best_metric = - np.inf\n",
        "best_model_state_dict = None\n",
        "\n",
        "que = deque(maxlen = 10)\n",
        "que_2 = deque(maxlen = 10)\n",
        "\n",
        "for epoch in range(1, n_epochs + 1):\n",
        "    print(f\"Starting Epoch {epoch}\")\n",
        "    print(\"Train phase\")\n",
        "    train_epoch_labels, train_epoch_losses, train_epoch_targets = torch_loop(\n",
        "        dataloader=train_torch_dataloader, \n",
        "        inp_model=nn_model,\n",
        "        inp_optimizer=optimizer,\n",
        "        inp_criterion=criterion,\n",
        "        device=\"cuda\",\n",
        "        mode=\"train\"\n",
        "    )\n",
        "    print(\"Train metrics\")\n",
        "    _, train_roc_auc = comp_metric(\n",
        "        train_epoch_targets, \n",
        "        train_epoch_labels\n",
        "    )\n",
        "    print(\"Train BCE losses\")\n",
        "    print_losses(train_epoch_losses)\n",
        "    print(\"Valid phase\")\n",
        "    valid_epoch_labels, valid_epoch_losses, valid_epoch_targets = torch_loop(\n",
        "        dataloader=valid_torch_dataloader, \n",
        "        inp_model=nn_model,\n",
        "        inp_optimizer=optimizer,\n",
        "        inp_criterion=criterion,\n",
        "        device=\"cuda\",\n",
        "        mode=\"eval\"\n",
        "    )\n",
        "    print(\"Valid metrics\")\n",
        "    _, valid_roc_auc = comp_metric(\n",
        "        valid_epoch_targets, \n",
        "        valid_epoch_labels\n",
        "    )\n",
        "    print(\"Valid BCE losses\")\n",
        "    print_losses(valid_epoch_losses)\n",
        "    scheduler.step(valid_roc_auc)\n",
        "    if valid_roc_auc > best_metric:\n",
        "        best_metric = valid_roc_auc\n",
        "        best_model_state_dict = deepcopy(nn_model.state_dict())\n",
        "\n",
        "      \n",
        "\n",
        "    que.append(valid_roc_auc)\n",
        "    que_2.append(train_roc_auc)\n",
        "    \n",
        "    # PLOTTING THE POINTS\n",
        "    plt.plot(que)\n",
        "    plt.plot(que_2)\n",
        "    plt.scatter(range(len(que)),que)\n",
        "    plt.scatter(range(len(que_2)),que_2)\n",
        "    \n",
        "    plt.draw()\n",
        "    plt.pause(0.1)\n",
        "    plt.clf()\n",
        "\n",
        "    train_all_epoch_labels.append(train_epoch_labels)\n",
        "    train_all_epoch_losses.append(train_epoch_losses.mean())\n",
        "    train_all_epoch_targets.append(train_epoch_targets)\n",
        "    valid_all_epoch_labels.append(valid_epoch_labels)\n",
        "    valid_all_epoch_losses.append(valid_epoch_losses.mean())\n",
        "    valid_all_epoch_targets.append(valid_epoch_targets)\n",
        "    valid_roc_aucs.append(valid_roc_auc)\n",
        "    train_roc_aucs.append(train_roc_auc)"
      ],
      "metadata": {
        "colab": {
          "base_uri": "https://localhost:8080/",
          "height": 1000
        },
        "id": "XdJSD3wseO50",
        "outputId": "af76d215-abd9-46f4-a40f-f50e8d3290e0"
      },
      "execution_count": 16,
      "outputs": [
        {
          "output_type": "stream",
          "name": "stdout",
          "text": [
            "Starting Epoch 1\n",
            "Train phase\n"
          ]
        },
        {
          "output_type": "stream",
          "name": "stderr",
          "text": [
            "100%|██████████| 260/260 [00:41<00:00,  6.29it/s]\n"
          ]
        },
        {
          "output_type": "stream",
          "name": "stdout",
          "text": [
            "Train metrics\n",
            "toxic Roc Auc: 0.8591041526528984\n",
            "severe_toxic Roc Auc: 0.8946765860715024\n",
            "obscene Roc Auc: 0.8867836945647474\n",
            "threat Roc Auc: 0.7310612959365388\n",
            "insult Roc Auc: 0.8721647507891067\n",
            "Result Roc Auc: 0.8487580960029588\n",
            "Train BCE losses\n",
            "Result BCE loss: 0.22071819007396698\n",
            "Valid phase\n"
          ]
        },
        {
          "output_type": "stream",
          "name": "stderr",
          "text": [
            "\r  0%|          | 0/66 [00:00<?, ?it/s]/usr/local/lib/python3.8/dist-packages/torch/utils/data/dataloader.py:554: UserWarning: This DataLoader will create 8 worker processes in total. Our suggested max number of worker in current system is 2, which is smaller than what this DataLoader is going to create. Please be aware that excessive worker creation might get DataLoader running slow or even freeze, lower the worker number to avoid potential slowness/freeze if necessary.\n",
            "  warnings.warn(_create_warning_msg(\n",
            "100%|██████████| 66/66 [00:03<00:00, 16.55it/s]"
          ]
        },
        {
          "output_type": "stream",
          "name": "stdout",
          "text": [
            "Valid metrics\n",
            "toxic Roc Auc: 0.9378365939440567\n",
            "severe_toxic Roc Auc: 0.9458369643023872\n",
            "obscene Roc Auc: 0.950566805805269\n",
            "threat Roc Auc: 0.8867376573088092\n",
            "insult Roc Auc: 0.9395681374251643\n",
            "Result Roc Auc: 0.9321092317571372\n",
            "Valid BCE losses\n",
            "Result BCE loss: 0.16118621826171875\n"
          ]
        },
        {
          "output_type": "stream",
          "name": "stderr",
          "text": [
            "\n"
          ]
        },
        {
          "output_type": "display_data",
          "data": {
            "text/plain": [
              "<Figure size 432x288 with 1 Axes>"
            ],
            "image/png": "[encoded data removed]"
          },
          "metadata": {
            "needs_background": "light"
          }
        },
        {
          "output_type": "stream",
          "name": "stdout",
          "text": [
            "Starting Epoch 2\n",
            "Train phase\n"
          ]
        },
        {
          "output_type": "stream",
          "name": "stderr",
          "text": [
            "\r  0%|          | 0/260 [00:00<?, ?it/s]/usr/local/lib/python3.8/dist-packages/torch/utils/data/dataloader.py:554: UserWarning: This DataLoader will create 8 worker processes in total. Our suggested max number of worker in current system is 2, which is smaller than what this DataLoader is going to create. Please be aware that excessive worker creation might get DataLoader running slow or even freeze, lower the worker number to avoid potential slowness/freeze if necessary.\n",
            "  warnings.warn(_create_warning_msg(\n",
            "100%|██████████| 260/260 [00:40<00:00,  6.48it/s]\n"
          ]
        },
        {
          "output_type": "stream",
          "name": "stdout",
          "text": [
            "Train metrics\n",
            "toxic Roc Auc: 0.9627859079199973\n",
            "severe_toxic Roc Auc: 0.9627977401491196\n",
            "obscene Roc Auc: 0.9705728000683902\n",
            "threat Roc Auc: 0.8965766980085853\n",
            "insult Roc Auc: 0.9576153871505475\n",
            "Result Roc Auc: 0.9500697066593279\n",
            "Train BCE losses\n",
            "Result BCE loss: 0.13147395849227905\n",
            "Valid phase\n"
          ]
        },
        {
          "output_type": "stream",
          "name": "stderr",
          "text": [
            "\r  0%|          | 0/66 [00:00<?, ?it/s]/usr/local/lib/python3.8/dist-packages/torch/utils/data/dataloader.py:554: UserWarning: This DataLoader will create 8 worker processes in total. Our suggested max number of worker in current system is 2, which is smaller than what this DataLoader is going to create. Please be aware that excessive worker creation might get DataLoader running slow or even freeze, lower the worker number to avoid potential slowness/freeze if necessary.\n",
            "  warnings.warn(_create_warning_msg(\n",
            "100%|██████████| 66/66 [00:03<00:00, 17.74it/s]"
          ]
        },
        {
          "output_type": "stream",
          "name": "stdout",
          "text": [
            "Valid metrics\n",
            "toxic Roc Auc: 0.9529737044567786\n",
            "severe_toxic Roc Auc: 0.9527189474339423\n",
            "obscene Roc Auc: 0.9598438808805335\n",
            "threat Roc Auc: 0.9525934847700309\n",
            "insult Roc Auc: 0.9469429380809926\n",
            "Result Roc Auc: 0.9530145911244556\n",
            "Valid BCE losses\n",
            "Result BCE loss: 0.14793850481510162\n"
          ]
        },
        {
          "output_type": "stream",
          "name": "stderr",
          "text": [
            "\n"
          ]
        },
        {
          "output_type": "display_data",
          "data": {
            "text/plain": [
              "<Figure size 432x288 with 1 Axes>"
            ],
            "image/png": "[encoded data removed]"
          },
          "metadata": {
            "needs_background": "light"
          }
        },
        {
          "output_type": "stream",
          "name": "stdout",
          "text": [
            "Starting Epoch 3\n",
            "Train phase\n"
          ]
        },
        {
          "output_type": "stream",
          "name": "stderr",
          "text": [
            "\r  0%|          | 0/260 [00:00<?, ?it/s]/usr/local/lib/python3.8/dist-packages/torch/utils/data/dataloader.py:554: UserWarning: This DataLoader will create 8 worker processes in total. Our suggested max number of worker in current system is 2, which is smaller than what this DataLoader is going to create. Please be aware that excessive worker creation might get DataLoader running slow or even freeze, lower the worker number to avoid potential slowness/freeze if necessary.\n",
            "  warnings.warn(_create_warning_msg(\n",
            "100%|██████████| 260/260 [00:42<00:00,  6.16it/s]\n"
          ]
        },
        {
          "output_type": "stream",
          "name": "stdout",
          "text": [
            "Train metrics\n",
            "toxic Roc Auc: 0.9874635447070595\n",
            "severe_toxic Roc Auc: 0.9737134660993304\n",
            "obscene Roc Auc: 0.9855915284533114\n",
            "threat Roc Auc: 0.9548852020166978\n",
            "insult Roc Auc: 0.9784557259323478\n",
            "Result Roc Auc: 0.9760218934417493\n",
            "Train BCE losses\n",
            "Result BCE loss: 0.09269198775291443\n",
            "Valid phase\n"
          ]
        },
        {
          "output_type": "stream",
          "name": "stderr",
          "text": [
            "\r  0%|          | 0/66 [00:00<?, ?it/s]/usr/local/lib/python3.8/dist-packages/torch/utils/data/dataloader.py:554: UserWarning: This DataLoader will create 8 worker processes in total. Our suggested max number of worker in current system is 2, which is smaller than what this DataLoader is going to create. Please be aware that excessive worker creation might get DataLoader running slow or even freeze, lower the worker number to avoid potential slowness/freeze if necessary.\n",
            "  warnings.warn(_create_warning_msg(\n",
            "100%|██████████| 66/66 [00:04<00:00, 14.27it/s]"
          ]
        },
        {
          "output_type": "stream",
          "name": "stdout",
          "text": [
            "Valid metrics\n",
            "toxic Roc Auc: 0.9515420124196295\n",
            "severe_toxic Roc Auc: 0.9533783573496001\n",
            "obscene Roc Auc: 0.9616794940541904\n",
            "threat Roc Auc: 0.9685269816970216\n",
            "insult Roc Auc: 0.9476805582010285\n",
            "Result Roc Auc: 0.9565614807442939\n",
            "Valid BCE losses\n",
            "Result BCE loss: 0.16642232239246368\n"
          ]
        },
        {
          "output_type": "stream",
          "name": "stderr",
          "text": [
            "\n"
          ]
        },
        {
          "output_type": "display_data",
          "data": {
            "text/plain": [
              "<Figure size 432x288 with 1 Axes>"
            ],
            "image/png": "[encoded data removed]"
          },
          "metadata": {
            "needs_background": "light"
          }
        },
        {
          "output_type": "display_data",
          "data": {
            "text/plain": [
              "<Figure size 432x288 with 0 Axes>"
            ]
          },
          "metadata": {}
        }
      ]
    },
    {
      "cell_type": "code",
      "source": [
        "plt.title(\"Roc Auc \")\n",
        "plt.plot(valid_roc_aucs, label=\"valid\")\n",
        "plt.plot(train_roc_aucs, label=\"train\")\n",
        "plt.legend()\n",
        "plt.show()"
      ],
      "metadata": {
        "colab": {
          "base_uri": "https://localhost:8080/",
          "height": 281
        },
        "id": "ypHP0GC3dew5",
        "outputId": "ed6da80c-8002-4677-8f20-137ac030cf0a"
      },
      "execution_count": 17,
      "outputs": [
        {
          "output_type": "display_data",
          "data": {
            "text/plain": [
              "<Figure size 432x288 with 1 Axes>"
            ],
            "image/png": "[encoded data removed]"
          },
          "metadata": {
            "needs_background": "light"
          }
        }
      ]
    },
    {
      "cell_type": "markdown",
      "source": [
        "**Loss vizualization**"
      ],
      "metadata": {
        "id": "7zJ23wOI1Ui0"
      }
    },
    {
      "cell_type": "code",
      "source": [
        "plt.title(\"Loss \")\n",
        "plt.plot(valid_all_epoch_losses, label=\"valid\")\n",
        "plt.plot(train_all_epoch_losses, label=\"train\")\n",
        "plt.legend()\n",
        "plt.show()\n"
      ],
      "metadata": {
        "id": "VQ0H5l07sjtd",
        "colab": {
          "base_uri": "https://localhost:8080/",
          "height": 281
        },
        "outputId": "adf75ad1-6db4-4df8-904e-dc51c2afbd3b"
      },
      "execution_count": 18,
      "outputs": [
        {
          "output_type": "display_data",
          "data": {
            "text/plain": [
              "<Figure size 432x288 with 1 Axes>"
            ],
            "image/png": "[encoded data removed]"
          },
          "metadata": {
            "needs_background": "light"
          }
        }
      ]
    },
    {
      "cell_type": "markdown",
      "source": [
        "**Classification report**"
      ],
      "metadata": {
        "id": "L5_J2Q_6xRzL"
      }
    },
    {
      "cell_type": "code",
      "source": [
        "test_torch_dataset = TextDataset(\n",
        "    texts=df_test[\"comment_text_clean\"].to_list(),\n",
        "    targets=df_test[criteria].values,\n",
        "    dataset_vocab=vocab,\n",
        "    dataset_tokenizer=tokenizer,\n",
        "    max_length=300,\n",
        "    trim_policy=\"first\"\n",
        ")\n",
        "test_torch_dataloader = torch.utils.data.DataLoader(\n",
        "    test_torch_dataset,\n",
        "    batch_size=32,\n",
        "    shuffle=False,\n",
        "    drop_last=False,\n",
        "    num_workers=8,\n",
        "    pin_memory=True\n",
        ")\n",
        "\n",
        "\n",
        "test_labels, test_losses, test_targets = torch_loop(\n",
        "    dataloader=test_torch_dataloader, \n",
        "    inp_model=nn_model,\n",
        "    inp_optimizer=optimizer,\n",
        "    inp_criterion=criterion,\n",
        "    device=\"cuda\",\n",
        "    mode=\"eval\"\n",
        ")"
      ],
      "metadata": {
        "colab": {
          "base_uri": "https://localhost:8080/"
        },
        "id": "IFwBCbsZ2nJ3",
        "outputId": "57b84aac-7eb0-478e-c060-c9fe7d74a9c3"
      },
      "execution_count": 19,
      "outputs": [
        {
          "output_type": "stream",
          "name": "stderr",
          "text": [
            "/usr/local/lib/python3.8/dist-packages/torch/utils/data/dataloader.py:554: UserWarning: This DataLoader will create 8 worker processes in total. Our suggested max number of worker in current system is 2, which is smaller than what this DataLoader is going to create. Please be aware that excessive worker creation might get DataLoader running slow or even freeze, lower the worker number to avoid potential slowness/freeze if necessary.\n",
            "  warnings.warn(_create_warning_msg(\n",
            "100%|██████████| 653/653 [00:19<00:00, 33.86it/s]\n"
          ]
        }
      ]
    },
    {
      "cell_type": "code",
      "source": [
        "def comp_metric_accuracy_score(y_true, y_pred, verbose=True):\n",
        "    assert y_true.shape == y_pred.shape\n",
        "    class_accuracy_scores = [accuracy_score(y_true[:,i], y_pred[:,i]) for i in range(y_pred.shape[1])]\n",
        "    if verbose:\n",
        "        for ra, tgt_col in zip(class_accuracy_scores, criteria):\n",
        "            print(f\"{tgt_col} accuracy score: {ra}\")\n",
        "        print(f\"Result accuracy score: {np.mean(class_accuracy_scores)}\")\n",
        "    return class_accuracy_scores, np.mean(class_accuracy_scores)"
      ],
      "metadata": {
        "id": "WsMfOiCoBLJb"
      },
      "execution_count": 35,
      "outputs": []
    },
    {
      "cell_type": "code",
      "source": [
        "from sklearn.metrics import roc_auc_score, accuracy_score, confusion_matrix, ConfusionMatrixDisplay, multilabel_confusion_matrix\n",
        "\n",
        "\n",
        "def classification_report(\n",
        "        real, prob, tresh=0.2\n",
        "):\n",
        "    \n",
        "\n",
        "        _, roc_auc = comp_metric(real, prob)\n",
        "        print( f\"ROC-AUC: {roc_auc}\\n\" )\n",
        "\n",
        "        _, accuracy = comp_metric_accuracy_score(real, prob > tresh)\n",
        "        print( \"Accuracy :\", accuracy)\n",
        "\n",
        "        for cls_idx, cls_name in enumerate(criteria):\n",
        "          plt.title(f\"{cls_name} Real vs Pred distribution\")\n",
        "          plt.hist((real[:, cls_idx]), bins=30, label=\"Real\")\n",
        "          plt.hist((prob[:, cls_idx]), bins=30, label=\"Pred\")\n",
        "          plt.legend()\n",
        "          plt.show()\n",
        "\n",
        "        cm = multilabel_confusion_matrix(\n",
        "            real, \n",
        "            prob > tresh, \n",
        "        )\n",
        "\n",
        "        print(\"\\nconfusion matrix\\n\",cm)\n",
        "\n",
        "\n",
        "\n",
        "        # disp = ConfusionMatrixDisplay(\n",
        "        #     confusion_matrix=cm, \n",
        "        # )\n",
        "        # disp.plot()\n",
        "        # plt.show()\n",
        "        f, axes = plt.subplots( 5, figsize=(25, 15))\n",
        "\n",
        "        for i in range(5):\n",
        "          disp = ConfusionMatrixDisplay(confusion_matrix(real[:, i],\n",
        "                                                        prob[:, i] > tresh),\n",
        "                                        )\n",
        "          disp.plot(ax=axes[i])\n",
        "          disp.ax_.set_title(criteria[i])\n",
        "          if i<10:\n",
        "              disp.ax_.set_xlabel('')\n",
        "          if i%5!=0:\n",
        "              disp.ax_.set_ylabel('')\n",
        "          disp.im_.colorbar.remove()\n",
        "\n",
        "        plt.subplots_adjust(wspace=0.10, hspace=0.3)\n",
        "        f.colorbar(disp.im_, ax=axes)\n",
        "        plt.show()\n",
        "\n",
        "   \n",
        "\n",
        "classification_report(test_targets, test_labels)    "
      ],
      "metadata": {
        "colab": {
          "base_uri": "https://localhost:8080/",
          "height": 1000
        },
        "id": "tFp-0bItxSP2",
        "outputId": "e925121c-2ab8-4aa2-df69-a2d79e265919"
      },
      "execution_count": 73,
      "outputs": [
        {
          "output_type": "stream",
          "name": "stdout",
          "text": [
            "toxic Roc Auc: 0.9440562537232972\n",
            "severe_toxic Roc Auc: 0.9758793534586648\n",
            "obscene Roc Auc: 0.962598605760411\n",
            "threat Roc Auc: 0.9737369066775174\n",
            "insult Roc Auc: 0.9571218085188272\n",
            "Result Roc Auc: 0.9626785856277434\n",
            "ROC-AUC: 0.9626785856277434\n",
            "\n",
            "toxic accuracy score: 0.8484166147654865\n",
            "severe_toxic accuracy score: 0.9784410482441431\n",
            "obscene accuracy score: 0.9449049010683658\n",
            "threat accuracy score: 0.9959277535572271\n",
            "insult accuracy score: 0.9492646002012168\n",
            "Result accuracy score: 0.9433909835672878\n",
            "Accuracy : 0.9433909835672878\n"
          ]
        },
        {
          "output_type": "display_data",
          "data": {
            "text/plain": [
              "<Figure size 432x288 with 1 Axes>"
            ],
            "image/png": "[encoded data removed]"
          },
          "metadata": {
            "needs_background": "light"
          }
        },
        {
          "output_type": "display_data",
          "data": {
            "text/plain": [
              "<Figure size 432x288 with 1 Axes>"
            ],
            "image/png": "[encoded data removed]"
          },
          "metadata": {
            "needs_background": "light"
          }
        },
        {
          "output_type": "display_data",
          "data": {
            "text/plain": [
              "<Figure size 432x288 with 1 Axes>"
            ],
            "image/png": "[encoded data removed]"
          },
          "metadata": {
            "needs_background": "light"
          }
        },
        {
          "output_type": "display_data",
          "data": {
            "text/plain": [
              "<Figure size 432x288 with 1 Axes>"
            ],
            "image/png": "[encoded data removed]"
          },
          "metadata": {
            "needs_background": "light"
          }
        },
        {
          "output_type": "display_data",
          "data": {
            "text/plain": [
              "<Figure size 432x288 with 1 Axes>"
            ],
            "image/png": "[encoded data removed]"
          },
          "metadata": {
            "needs_background": "light"
          }
        },
        {
          "output_type": "stream",
          "name": "stdout",
          "text": [
            "\n",
            "confusion matrix\n",
            " [[[15921  2958]\n",
            "  [  206  1788]]\n",
            "\n",
            " [[20323   422]\n",
            "  [   28   100]]\n",
            "\n",
            " [[18770   918]\n",
            "  [  232   953]]\n",
            "\n",
            " [[20783    12]\n",
            "  [   73     5]]\n",
            "\n",
            " [[19029   740]\n",
            "  [  319   785]]]\n"
          ]
        },
        {
          "output_type": "display_data",
          "data": {
            "text/plain": [
              "<Figure size 1800x1080 with 6 Axes>"
            ],
            "image/png": "[encoded data removed]"
          },
          "metadata": {
            "needs_background": "light"
          }
        }
      ]
    },
    {
      "cell_type": "markdown",
      "source": [
        "# **Word2Vec or Flair word embeddings and use them instead of torch.nn.Embedding.**\n",
        "\n",
        "\n",
        "\n",
        "\n"
      ],
      "metadata": {
        "id": "StXXqMS2skIz"
      }
    },
    {
      "cell_type": "code",
      "source": [
        "model = gensim.models.Word2Vec(df.iloc[folds_train_test_ids[0][0]][\"comment_text_clean\"].apply(str.split),\n",
        "                              min_count=10, \n",
        "                              workers=1,\n",
        "                              size=50,\n",
        "                              window=5,\n",
        "                              iter = 10)"
      ],
      "metadata": {
        "id": "G6D_AN3lfZX1"
      },
      "execution_count": null,
      "outputs": []
    },
    {
      "cell_type": "code",
      "source": [
        "weights = torch.FloatTensor(model.wv.vectors)\n",
        "embeddings_w2vec = nn.Embedding.from_pretrained(weights)"
      ],
      "metadata": {
        "id": "hG0psT2CDC-D"
      },
      "execution_count": null,
      "outputs": []
    },
    {
      "cell_type": "code",
      "source": [
        "query = 'i'\n",
        "query_id = torch.tensor(model.wv.vocab[query].index)\n",
        "embedding_vector = embeddings_w2vec(query_id)\n",
        "embedding_vector\n",
        "\n"
      ],
      "metadata": {
        "colab": {
          "base_uri": "https://localhost:8080/"
        },
        "id": "59t4Qa0cjxsL",
        "outputId": "362524e2-ed83-42a1-d410-a0c4886ae126"
      },
      "execution_count": null,
      "outputs": [
        {
          "output_type": "execute_result",
          "data": {
            "text/plain": [
              "tensor([-0.2211,  0.1706,  2.3974, -0.2003,  2.0290, -1.1812,  0.6146,  1.8350,\n",
              "        -0.6323, -1.5949,  0.9808,  0.6322,  0.0566, -0.1322,  0.9298,  0.5680,\n",
              "         0.2433,  0.8010,  0.9081,  0.7154, -0.2160, -0.2291,  0.2417, -0.5295,\n",
              "         0.3707,  1.6581,  3.5173,  1.6413,  2.0982, -0.3521,  1.8757, -2.8537,\n",
              "        -0.6446,  2.7627, -1.4350,  0.9809,  3.6598,  2.7015,  0.7482, -0.1936,\n",
              "         2.3844, -0.8660, -3.6676, -1.1592,  1.7485, -1.4312,  0.3128, -2.1809,\n",
              "        -0.1870,  0.1200])"
            ]
          },
          "metadata": {},
          "execution_count": 33
        }
      ]
    },
    {
      "cell_type": "code",
      "source": [
        "model.most_similar(positive=['i', 'ask'], negative=['please'], topn=1)"
      ],
      "metadata": {
        "id": "ZG66nINhTK8_",
        "colab": {
          "base_uri": "https://localhost:8080/"
        },
        "outputId": "fcc8d000-0918-471b-a525-bc599c255ee7"
      },
      "execution_count": null,
      "outputs": [
        {
          "output_type": "stream",
          "name": "stderr",
          "text": [
            "<ipython-input-19-e9ad4ded78b1>:1: DeprecationWarning: Call to deprecated `most_similar` (Method will be removed in 4.0.0, use self.wv.most_similar() instead).\n",
            "  model.most_similar(positive=['i', 'ask'], negative=['please'], topn=1)\n"
          ]
        },
        {
          "output_type": "execute_result",
          "data": {
            "text/plain": [
              "[('happen', 0.5742165446281433)]"
            ]
          },
          "metadata": {},
          "execution_count": 19
        }
      ]
    },
    {
      "cell_type": "code",
      "source": [
        "class UniversalRNN(nn.Module):\n",
        "    \n",
        "    def __init__(\n",
        "        self,\n",
        "        num_embeddings,\n",
        "        out_channels,\n",
        "        rnn_channels=50,\n",
        "        rnn_type=nn.GRU,\n",
        "        n_rnns=1,\n",
        "        bidirectional=False,\n",
        "        average_type=None\n",
        "    ):\n",
        "        super().__init__()\n",
        "        \n",
        "        # self.embedding_layer = nn.Embedding(num_embeddings, rnn_channels)\n",
        "\n",
        "        self.embedding_layer = embeddings_w2vec\n",
        "\n",
        "        self.rnns = rnn_type(\n",
        "            rnn_channels, \n",
        "            rnn_channels, \n",
        "            bidirectional=bidirectional, \n",
        "            num_layers=n_rnns,\n",
        "            batch_first=True\n",
        "        )\n",
        "        if not (average_type is None or average_type in [\"mean\", \"last\"]):\n",
        "            raise ValueError(f\"{average_type} is not supported average_type\")\n",
        "        self.average_type = average_type\n",
        "        self.classifier = nn.Linear(\n",
        "            rnn_channels * 2 if bidirectional else rnn_channels, \n",
        "            out_channels, \n",
        "        )\n",
        "        \n",
        "    def forward(self, x):\n",
        "        x = self.embedding_layer(x)\n",
        "        x = self.rnns(x)[0]\n",
        "        if self.average_type is None:\n",
        "            x = self.classifier(x)\n",
        "        else:\n",
        "            # Dimension reminder : [Batch, Time Dimension, Channels]\n",
        "            if self.average_type == \"mean\":\n",
        "                x = x.mean(1)\n",
        "            elif self.average_type == \"last\":\n",
        "                x = x[:,-1,:]\n",
        "            x = self.classifier(x)\n",
        "        return x"
      ],
      "metadata": {
        "id": "A_SjS3ig5NiU"
      },
      "execution_count": null,
      "outputs": []
    },
    {
      "cell_type": "code",
      "source": [
        "nn_model = UniversalRNN(\n",
        "    num_embeddings=len(vocab),\n",
        "\n",
        "    out_channels=len(criteria),\n",
        "    average_type=\"mean\"\n",
        ").to(\"cuda\")\n",
        "\n",
        "criterion = torch.nn.BCEWithLogitsLoss(reduction=\"none\")\n",
        "\n",
        "optimizer = torch.optim.Adam(nn_model.parameters(), lr=0.001)\n",
        "scheduler = torch.optim.lr_scheduler.ReduceLROnPlateau(optimizer, patience=1, factor=0.5, min_lr=1e-7, mode=\"max\", verbose=True)"
      ],
      "metadata": {
        "id": "W7P-RGRF5TBO"
      },
      "execution_count": null,
      "outputs": []
    },
    {
      "cell_type": "code",
      "source": [
        "\n",
        "n_epochs = 3\n",
        "\n",
        "train_all_epoch_labels = []\n",
        "train_all_epoch_losses = []\n",
        "train_all_epoch_targets = []\n",
        "valid_all_epoch_labels = []\n",
        "valid_all_epoch_losses = []\n",
        "valid_all_epoch_targets = []\n",
        "valid_roc_aucs = []\n",
        "train_roc_aucs = []\n",
        "\n",
        "best_metric = - np.inf\n",
        "best_model_state_dict = None\n",
        "\n",
        "\n",
        "for epoch in range(1, n_epochs + 1):\n",
        "    print(f\"Starting Epoch {epoch}\")\n",
        "    print(\"Train phase\")\n",
        "    train_epoch_labels, train_epoch_losses, train_epoch_targets = torch_loop(\n",
        "        dataloader=train_torch_dataloader, \n",
        "        inp_model=nn_model,\n",
        "        inp_optimizer=optimizer,\n",
        "        inp_criterion=criterion,\n",
        "        device=\"cuda\",\n",
        "        mode=\"train\"\n",
        "    )\n",
        "    print(\"Train metrics\")\n",
        "    _, train_roc_auc = comp_metric(\n",
        "        train_epoch_targets, \n",
        "        train_epoch_labels\n",
        "    )\n",
        "    print(\"Train BCE losses\")\n",
        "    print_losses(train_epoch_losses)\n",
        "    print(\"Valid phase\")\n",
        "    valid_epoch_labels, valid_epoch_losses, valid_epoch_targets = torch_loop(\n",
        "        dataloader=valid_torch_dataloader, \n",
        "        inp_model=nn_model,\n",
        "        inp_optimizer=optimizer,\n",
        "        inp_criterion=criterion,\n",
        "        device=\"cuda\",\n",
        "        mode=\"eval\"\n",
        "    )\n",
        "    print(\"Valid metrics\")\n",
        "    _, valid_roc_auc = comp_metric(\n",
        "        valid_epoch_targets, \n",
        "        valid_epoch_labels\n",
        "    )\n",
        "    print(\"Valid BCE losses\")\n",
        "    print_losses(valid_epoch_losses)\n",
        "    scheduler.step(valid_roc_auc)\n",
        "    if valid_roc_auc > best_metric:\n",
        "        best_metric = valid_roc_auc\n",
        "        best_model_state_dict = deepcopy(nn_model.state_dict())\n",
        "\n",
        "      \n",
        "    train_all_epoch_labels.append(train_epoch_labels)\n",
        "    train_all_epoch_losses.append(train_epoch_losses.mean())\n",
        "    train_all_epoch_targets.append(train_epoch_targets)\n",
        "    valid_all_epoch_labels.append(valid_epoch_labels)\n",
        "    valid_all_epoch_losses.append(valid_epoch_losses.mean())\n",
        "    valid_all_epoch_targets.append(valid_epoch_targets)\n",
        "    valid_roc_aucs.append(valid_roc_auc)\n",
        "    train_roc_aucs.append(train_roc_auc)"
      ],
      "metadata": {
        "id": "JVm6LG72AM_z"
      },
      "execution_count": null,
      "outputs": []
    }
  ]
}